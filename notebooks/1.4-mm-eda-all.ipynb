{
 "cells": [
  {
   "cell_type": "code",
   "id": "initial_id",
   "metadata": {
    "collapsed": true,
    "ExecuteTime": {
     "end_time": "2025-06-09T20:01:25.797278Z",
     "start_time": "2025-06-09T20:01:25.793729Z"
    }
   },
   "source": [
    "from pathlib import Path\n",
    "from sys import prefix\n",
    "\n",
    "import numpy as np\n",
    "import pandas as pd\n",
    "import matplotlib.pyplot as plt\n",
    "import seaborn as sns"
   ],
   "outputs": [],
   "execution_count": 41
  },
  {
   "metadata": {
    "ExecuteTime": {
     "end_time": "2025-06-09T20:01:25.850269Z",
     "start_time": "2025-06-09T20:01:25.847346Z"
    }
   },
   "cell_type": "code",
   "source": [
    "PROCESSED_DATA = Path(\"../data/processed/\")\n",
    "FIGURES_DATA = Path(\"../reports/figures/\")\n",
    "INTERIM_DATA = Path(\"../data/interim/\")"
   ],
   "id": "38ccef356e27d42",
   "outputs": [],
   "execution_count": 42
  },
  {
   "metadata": {
    "ExecuteTime": {
     "end_time": "2025-06-09T20:01:26.243516Z",
     "start_time": "2025-06-09T20:01:25.883862Z"
    }
   },
   "cell_type": "code",
   "source": [
    "transactions = pd.read_parquet(PROCESSED_DATA / \"transactions.parquet\")\n",
    "users = pd.read_parquet(PROCESSED_DATA / \"users.parquet\")\n",
    "merchants = pd.read_parquet(PROCESSED_DATA / \"merchants.parquet\")"
   ],
   "id": "a46fbb4baae23464",
   "outputs": [],
   "execution_count": 43
  },
  {
   "metadata": {
    "ExecuteTime": {
     "end_time": "2025-06-09T20:01:26.274618Z",
     "start_time": "2025-06-09T20:01:26.267093Z"
    }
   },
   "cell_type": "code",
   "source": "users['signup_date'] = pd.to_datetime(users['signup_date'])",
   "id": "9b2d25d66425fba6",
   "outputs": [],
   "execution_count": 44
  },
  {
   "metadata": {
    "ExecuteTime": {
     "end_time": "2025-06-09T20:01:26.310799Z",
     "start_time": "2025-06-09T20:01:26.300087Z"
    }
   },
   "cell_type": "code",
   "source": "transactions.head()",
   "id": "ac621c8a7c9c4561",
   "outputs": [
    {
     "data": {
      "text/plain": [
       "  transaction_id           timestamp user_id merchant_id  amount   channel  \\\n",
       "0       TX000000 2022-06-17 23:28:00  U14804       M0314  130.03  in-store   \n",
       "1       TX000001 2022-01-04 15:39:00  U16634       M0675  132.00    online   \n",
       "2       TX000002 2022-09-09 21:58:00  U18005       M0479    8.65    online   \n",
       "3       TX000003 2023-11-20 06:40:00  U13690       M0538   19.82    mobile   \n",
       "4       TX000004 2022-04-28 08:08:00  U04642       M0128  101.92  in-store   \n",
       "\n",
       "  currency   device                               location payment_method  \\\n",
       "0      EUR  Android  {'lat': 40.057938, 'long': 14.959737}     debit_card   \n",
       "1      EUR  Android    {'lat': 42.05935, 'long': 1.596625}     debit_card   \n",
       "2      EUR  Android  {'lat': 50.923432, 'long': 21.795262}    credit_card   \n",
       "3      EUR      iOS  {'lat': 56.833396, 'long': -9.881566}    credit_card   \n",
       "4      EUR  Android   {'lat': 54.042996, 'long': 2.168516}    credit_card   \n",
       "\n",
       "   is_international  session_length_seconds  is_first_time_merchant  is_fraud  \n",
       "0                 1                     145                       0         0  \n",
       "1                 1                      32                       1         0  \n",
       "2                 1                     604                       1         0  \n",
       "3                 0                    1031                       1         0  \n",
       "4                 1                     330                       0         0  "
      ],
      "text/html": [
       "<div>\n",
       "<style scoped>\n",
       "    .dataframe tbody tr th:only-of-type {\n",
       "        vertical-align: middle;\n",
       "    }\n",
       "\n",
       "    .dataframe tbody tr th {\n",
       "        vertical-align: top;\n",
       "    }\n",
       "\n",
       "    .dataframe thead th {\n",
       "        text-align: right;\n",
       "    }\n",
       "</style>\n",
       "<table border=\"1\" class=\"dataframe\">\n",
       "  <thead>\n",
       "    <tr style=\"text-align: right;\">\n",
       "      <th></th>\n",
       "      <th>transaction_id</th>\n",
       "      <th>timestamp</th>\n",
       "      <th>user_id</th>\n",
       "      <th>merchant_id</th>\n",
       "      <th>amount</th>\n",
       "      <th>channel</th>\n",
       "      <th>currency</th>\n",
       "      <th>device</th>\n",
       "      <th>location</th>\n",
       "      <th>payment_method</th>\n",
       "      <th>is_international</th>\n",
       "      <th>session_length_seconds</th>\n",
       "      <th>is_first_time_merchant</th>\n",
       "      <th>is_fraud</th>\n",
       "    </tr>\n",
       "  </thead>\n",
       "  <tbody>\n",
       "    <tr>\n",
       "      <th>0</th>\n",
       "      <td>TX000000</td>\n",
       "      <td>2022-06-17 23:28:00</td>\n",
       "      <td>U14804</td>\n",
       "      <td>M0314</td>\n",
       "      <td>130.03</td>\n",
       "      <td>in-store</td>\n",
       "      <td>EUR</td>\n",
       "      <td>Android</td>\n",
       "      <td>{'lat': 40.057938, 'long': 14.959737}</td>\n",
       "      <td>debit_card</td>\n",
       "      <td>1</td>\n",
       "      <td>145</td>\n",
       "      <td>0</td>\n",
       "      <td>0</td>\n",
       "    </tr>\n",
       "    <tr>\n",
       "      <th>1</th>\n",
       "      <td>TX000001</td>\n",
       "      <td>2022-01-04 15:39:00</td>\n",
       "      <td>U16634</td>\n",
       "      <td>M0675</td>\n",
       "      <td>132.00</td>\n",
       "      <td>online</td>\n",
       "      <td>EUR</td>\n",
       "      <td>Android</td>\n",
       "      <td>{'lat': 42.05935, 'long': 1.596625}</td>\n",
       "      <td>debit_card</td>\n",
       "      <td>1</td>\n",
       "      <td>32</td>\n",
       "      <td>1</td>\n",
       "      <td>0</td>\n",
       "    </tr>\n",
       "    <tr>\n",
       "      <th>2</th>\n",
       "      <td>TX000002</td>\n",
       "      <td>2022-09-09 21:58:00</td>\n",
       "      <td>U18005</td>\n",
       "      <td>M0479</td>\n",
       "      <td>8.65</td>\n",
       "      <td>online</td>\n",
       "      <td>EUR</td>\n",
       "      <td>Android</td>\n",
       "      <td>{'lat': 50.923432, 'long': 21.795262}</td>\n",
       "      <td>credit_card</td>\n",
       "      <td>1</td>\n",
       "      <td>604</td>\n",
       "      <td>1</td>\n",
       "      <td>0</td>\n",
       "    </tr>\n",
       "    <tr>\n",
       "      <th>3</th>\n",
       "      <td>TX000003</td>\n",
       "      <td>2023-11-20 06:40:00</td>\n",
       "      <td>U13690</td>\n",
       "      <td>M0538</td>\n",
       "      <td>19.82</td>\n",
       "      <td>mobile</td>\n",
       "      <td>EUR</td>\n",
       "      <td>iOS</td>\n",
       "      <td>{'lat': 56.833396, 'long': -9.881566}</td>\n",
       "      <td>credit_card</td>\n",
       "      <td>0</td>\n",
       "      <td>1031</td>\n",
       "      <td>1</td>\n",
       "      <td>0</td>\n",
       "    </tr>\n",
       "    <tr>\n",
       "      <th>4</th>\n",
       "      <td>TX000004</td>\n",
       "      <td>2022-04-28 08:08:00</td>\n",
       "      <td>U04642</td>\n",
       "      <td>M0128</td>\n",
       "      <td>101.92</td>\n",
       "      <td>in-store</td>\n",
       "      <td>EUR</td>\n",
       "      <td>Android</td>\n",
       "      <td>{'lat': 54.042996, 'long': 2.168516}</td>\n",
       "      <td>credit_card</td>\n",
       "      <td>1</td>\n",
       "      <td>330</td>\n",
       "      <td>0</td>\n",
       "      <td>0</td>\n",
       "    </tr>\n",
       "  </tbody>\n",
       "</table>\n",
       "</div>"
      ]
     },
     "execution_count": 45,
     "metadata": {},
     "output_type": "execute_result"
    }
   ],
   "execution_count": 45
  },
  {
   "metadata": {
    "ExecuteTime": {
     "end_time": "2025-06-09T20:01:26.411952Z",
     "start_time": "2025-06-09T20:01:26.403241Z"
    }
   },
   "cell_type": "code",
   "source": "users.head()",
   "id": "a7572dfad40c26e7",
   "outputs": [
    {
     "data": {
      "text/plain": [
       "  user_id  age     sex    education primary_source_of_income  \\\n",
       "0  U00001   56   Other  High School               Employment   \n",
       "1  U00002   36  Female     Bachelor                 Business   \n",
       "2  U00003   70   Other  High School              Student Aid   \n",
       "3  U00004   38   Other  High School                  Savings   \n",
       "4  U00005   61    Male  High School               Employment   \n",
       "\n",
       "   sum_of_monthly_installments  sum_of_monthly_expenses  country signup_date  \\\n",
       "0                       477.69                   243.18  Finland  2021-04-01   \n",
       "1                        31.60                   737.76   France  2020-07-07   \n",
       "2                       275.72                  1477.50  Finland  2022-08-23   \n",
       "3                       288.29                  1135.03  Belgium  2022-05-21   \n",
       "4                         7.00                   892.76    Italy  2022-03-15   \n",
       "\n",
       "   risk_score  \n",
       "0    0.571079  \n",
       "1    0.705268  \n",
       "2    0.429579  \n",
       "3    0.581384  \n",
       "4    0.420227  "
      ],
      "text/html": [
       "<div>\n",
       "<style scoped>\n",
       "    .dataframe tbody tr th:only-of-type {\n",
       "        vertical-align: middle;\n",
       "    }\n",
       "\n",
       "    .dataframe tbody tr th {\n",
       "        vertical-align: top;\n",
       "    }\n",
       "\n",
       "    .dataframe thead th {\n",
       "        text-align: right;\n",
       "    }\n",
       "</style>\n",
       "<table border=\"1\" class=\"dataframe\">\n",
       "  <thead>\n",
       "    <tr style=\"text-align: right;\">\n",
       "      <th></th>\n",
       "      <th>user_id</th>\n",
       "      <th>age</th>\n",
       "      <th>sex</th>\n",
       "      <th>education</th>\n",
       "      <th>primary_source_of_income</th>\n",
       "      <th>sum_of_monthly_installments</th>\n",
       "      <th>sum_of_monthly_expenses</th>\n",
       "      <th>country</th>\n",
       "      <th>signup_date</th>\n",
       "      <th>risk_score</th>\n",
       "    </tr>\n",
       "  </thead>\n",
       "  <tbody>\n",
       "    <tr>\n",
       "      <th>0</th>\n",
       "      <td>U00001</td>\n",
       "      <td>56</td>\n",
       "      <td>Other</td>\n",
       "      <td>High School</td>\n",
       "      <td>Employment</td>\n",
       "      <td>477.69</td>\n",
       "      <td>243.18</td>\n",
       "      <td>Finland</td>\n",
       "      <td>2021-04-01</td>\n",
       "      <td>0.571079</td>\n",
       "    </tr>\n",
       "    <tr>\n",
       "      <th>1</th>\n",
       "      <td>U00002</td>\n",
       "      <td>36</td>\n",
       "      <td>Female</td>\n",
       "      <td>Bachelor</td>\n",
       "      <td>Business</td>\n",
       "      <td>31.60</td>\n",
       "      <td>737.76</td>\n",
       "      <td>France</td>\n",
       "      <td>2020-07-07</td>\n",
       "      <td>0.705268</td>\n",
       "    </tr>\n",
       "    <tr>\n",
       "      <th>2</th>\n",
       "      <td>U00003</td>\n",
       "      <td>70</td>\n",
       "      <td>Other</td>\n",
       "      <td>High School</td>\n",
       "      <td>Student Aid</td>\n",
       "      <td>275.72</td>\n",
       "      <td>1477.50</td>\n",
       "      <td>Finland</td>\n",
       "      <td>2022-08-23</td>\n",
       "      <td>0.429579</td>\n",
       "    </tr>\n",
       "    <tr>\n",
       "      <th>3</th>\n",
       "      <td>U00004</td>\n",
       "      <td>38</td>\n",
       "      <td>Other</td>\n",
       "      <td>High School</td>\n",
       "      <td>Savings</td>\n",
       "      <td>288.29</td>\n",
       "      <td>1135.03</td>\n",
       "      <td>Belgium</td>\n",
       "      <td>2022-05-21</td>\n",
       "      <td>0.581384</td>\n",
       "    </tr>\n",
       "    <tr>\n",
       "      <th>4</th>\n",
       "      <td>U00005</td>\n",
       "      <td>61</td>\n",
       "      <td>Male</td>\n",
       "      <td>High School</td>\n",
       "      <td>Employment</td>\n",
       "      <td>7.00</td>\n",
       "      <td>892.76</td>\n",
       "      <td>Italy</td>\n",
       "      <td>2022-03-15</td>\n",
       "      <td>0.420227</td>\n",
       "    </tr>\n",
       "  </tbody>\n",
       "</table>\n",
       "</div>"
      ]
     },
     "execution_count": 46,
     "metadata": {},
     "output_type": "execute_result"
    }
   ],
   "execution_count": 46
  },
  {
   "metadata": {
    "ExecuteTime": {
     "end_time": "2025-06-09T20:01:26.645087Z",
     "start_time": "2025-06-09T20:01:26.635701Z"
    }
   },
   "cell_type": "code",
   "source": "merchants.head()",
   "id": "c41f5ff57649cf71",
   "outputs": [
    {
     "data": {
      "text/plain": [
       "  merchant_id     category         country  trust_score  \\\n",
       "0       M0001       travel         Austria     1.000000   \n",
       "1       M0002     clothing          Poland     0.689695   \n",
       "2       M0003  electronics  Czech Republic     0.834610   \n",
       "3       M0004  electronics         Belgium     0.607229   \n",
       "4       M0005      grocery         Ireland     0.641901   \n",
       "\n",
       "   number_of_alerts_last_6_months  avg_transaction_amount  account_age_months  \\\n",
       "0                               3                   97.23                  84   \n",
       "1                               2                  142.71                  93   \n",
       "2                               5                   67.83                  65   \n",
       "3                               1                   16.77                   9   \n",
       "4                               2                   38.56                 100   \n",
       "\n",
       "   has_fraud_history  \n",
       "0                  0  \n",
       "1                  1  \n",
       "2                  0  \n",
       "3                  1  \n",
       "4                  0  "
      ],
      "text/html": [
       "<div>\n",
       "<style scoped>\n",
       "    .dataframe tbody tr th:only-of-type {\n",
       "        vertical-align: middle;\n",
       "    }\n",
       "\n",
       "    .dataframe tbody tr th {\n",
       "        vertical-align: top;\n",
       "    }\n",
       "\n",
       "    .dataframe thead th {\n",
       "        text-align: right;\n",
       "    }\n",
       "</style>\n",
       "<table border=\"1\" class=\"dataframe\">\n",
       "  <thead>\n",
       "    <tr style=\"text-align: right;\">\n",
       "      <th></th>\n",
       "      <th>merchant_id</th>\n",
       "      <th>category</th>\n",
       "      <th>country</th>\n",
       "      <th>trust_score</th>\n",
       "      <th>number_of_alerts_last_6_months</th>\n",
       "      <th>avg_transaction_amount</th>\n",
       "      <th>account_age_months</th>\n",
       "      <th>has_fraud_history</th>\n",
       "    </tr>\n",
       "  </thead>\n",
       "  <tbody>\n",
       "    <tr>\n",
       "      <th>0</th>\n",
       "      <td>M0001</td>\n",
       "      <td>travel</td>\n",
       "      <td>Austria</td>\n",
       "      <td>1.000000</td>\n",
       "      <td>3</td>\n",
       "      <td>97.23</td>\n",
       "      <td>84</td>\n",
       "      <td>0</td>\n",
       "    </tr>\n",
       "    <tr>\n",
       "      <th>1</th>\n",
       "      <td>M0002</td>\n",
       "      <td>clothing</td>\n",
       "      <td>Poland</td>\n",
       "      <td>0.689695</td>\n",
       "      <td>2</td>\n",
       "      <td>142.71</td>\n",
       "      <td>93</td>\n",
       "      <td>1</td>\n",
       "    </tr>\n",
       "    <tr>\n",
       "      <th>2</th>\n",
       "      <td>M0003</td>\n",
       "      <td>electronics</td>\n",
       "      <td>Czech Republic</td>\n",
       "      <td>0.834610</td>\n",
       "      <td>5</td>\n",
       "      <td>67.83</td>\n",
       "      <td>65</td>\n",
       "      <td>0</td>\n",
       "    </tr>\n",
       "    <tr>\n",
       "      <th>3</th>\n",
       "      <td>M0004</td>\n",
       "      <td>electronics</td>\n",
       "      <td>Belgium</td>\n",
       "      <td>0.607229</td>\n",
       "      <td>1</td>\n",
       "      <td>16.77</td>\n",
       "      <td>9</td>\n",
       "      <td>1</td>\n",
       "    </tr>\n",
       "    <tr>\n",
       "      <th>4</th>\n",
       "      <td>M0005</td>\n",
       "      <td>grocery</td>\n",
       "      <td>Ireland</td>\n",
       "      <td>0.641901</td>\n",
       "      <td>2</td>\n",
       "      <td>38.56</td>\n",
       "      <td>100</td>\n",
       "      <td>0</td>\n",
       "    </tr>\n",
       "  </tbody>\n",
       "</table>\n",
       "</div>"
      ]
     },
     "execution_count": 47,
     "metadata": {},
     "output_type": "execute_result"
    }
   ],
   "execution_count": 47
  },
  {
   "metadata": {
    "ExecuteTime": {
     "end_time": "2025-06-09T20:01:27.173950Z",
     "start_time": "2025-06-09T20:01:26.832341Z"
    }
   },
   "cell_type": "code",
   "source": [
    "df = transactions.merge(users, on=\"user_id\", how=\"left\").merge(merchants, on=\"merchant_id\", how=\"left\",\n",
    "\t\t\t\t\t\t\t\t\t\t\t\t\t\t\t   suffixes=(\"_user\", \"_merchant\"))"
   ],
   "id": "a287d94673ec0d8d",
   "outputs": [],
   "execution_count": 48
  },
  {
   "metadata": {
    "ExecuteTime": {
     "end_time": "2025-06-09T20:01:27.230805Z",
     "start_time": "2025-06-09T20:01:27.226807Z"
    }
   },
   "cell_type": "code",
   "source": "print(\"Initial shape:\", df.shape)",
   "id": "3bc56f81859fc8e1",
   "outputs": [
    {
     "name": "stdout",
     "output_type": "stream",
     "text": [
      "Initial shape: (500000, 30)\n"
     ]
    }
   ],
   "execution_count": 49
  },
  {
   "metadata": {
    "ExecuteTime": {
     "end_time": "2025-06-09T20:01:27.536962Z",
     "start_time": "2025-06-09T20:01:27.347701Z"
    }
   },
   "cell_type": "code",
   "source": "df.info()",
   "id": "3fa715687affc813",
   "outputs": [
    {
     "name": "stdout",
     "output_type": "stream",
     "text": [
      "<class 'pandas.core.frame.DataFrame'>\n",
      "RangeIndex: 500000 entries, 0 to 499999\n",
      "Data columns (total 30 columns):\n",
      " #   Column                          Non-Null Count   Dtype         \n",
      "---  ------                          --------------   -----         \n",
      " 0   transaction_id                  500000 non-null  object        \n",
      " 1   timestamp                       500000 non-null  datetime64[ns]\n",
      " 2   user_id                         500000 non-null  object        \n",
      " 3   merchant_id                     500000 non-null  object        \n",
      " 4   amount                          500000 non-null  float64       \n",
      " 5   channel                         500000 non-null  object        \n",
      " 6   currency                        500000 non-null  object        \n",
      " 7   device                          500000 non-null  object        \n",
      " 8   location                        500000 non-null  object        \n",
      " 9   payment_method                  500000 non-null  object        \n",
      " 10  is_international                500000 non-null  int64         \n",
      " 11  session_length_seconds          500000 non-null  int64         \n",
      " 12  is_first_time_merchant          500000 non-null  int64         \n",
      " 13  is_fraud                        500000 non-null  int64         \n",
      " 14  age                             500000 non-null  int64         \n",
      " 15  sex                             500000 non-null  object        \n",
      " 16  education                       403434 non-null  object        \n",
      " 17  primary_source_of_income        500000 non-null  object        \n",
      " 18  sum_of_monthly_installments     500000 non-null  float64       \n",
      " 19  sum_of_monthly_expenses         500000 non-null  float64       \n",
      " 20  country_user                    500000 non-null  object        \n",
      " 21  signup_date                     500000 non-null  datetime64[ns]\n",
      " 22  risk_score                      500000 non-null  float64       \n",
      " 23  category                        500000 non-null  object        \n",
      " 24  country_merchant                500000 non-null  object        \n",
      " 25  trust_score                     500000 non-null  float64       \n",
      " 26  number_of_alerts_last_6_months  500000 non-null  int64         \n",
      " 27  avg_transaction_amount          500000 non-null  float64       \n",
      " 28  account_age_months              500000 non-null  int64         \n",
      " 29  has_fraud_history               500000 non-null  int64         \n",
      "dtypes: datetime64[ns](2), float64(6), int64(8), object(14)\n",
      "memory usage: 114.4+ MB\n"
     ]
    }
   ],
   "execution_count": 50
  },
  {
   "metadata": {
    "ExecuteTime": {
     "end_time": "2025-06-09T20:01:27.585420Z",
     "start_time": "2025-06-09T20:01:27.568925Z"
    }
   },
   "cell_type": "code",
   "source": "df.head()",
   "id": "4f9d59cc8d891359",
   "outputs": [
    {
     "data": {
      "text/plain": [
       "  transaction_id           timestamp user_id merchant_id  amount   channel  \\\n",
       "0       TX000000 2022-06-17 23:28:00  U14804       M0314  130.03  in-store   \n",
       "1       TX000001 2022-01-04 15:39:00  U16634       M0675  132.00    online   \n",
       "2       TX000002 2022-09-09 21:58:00  U18005       M0479    8.65    online   \n",
       "3       TX000003 2023-11-20 06:40:00  U13690       M0538   19.82    mobile   \n",
       "4       TX000004 2022-04-28 08:08:00  U04642       M0128  101.92  in-store   \n",
       "\n",
       "  currency   device                               location payment_method  \\\n",
       "0      EUR  Android  {'lat': 40.057938, 'long': 14.959737}     debit_card   \n",
       "1      EUR  Android    {'lat': 42.05935, 'long': 1.596625}     debit_card   \n",
       "2      EUR  Android  {'lat': 50.923432, 'long': 21.795262}    credit_card   \n",
       "3      EUR      iOS  {'lat': 56.833396, 'long': -9.881566}    credit_card   \n",
       "4      EUR  Android   {'lat': 54.042996, 'long': 2.168516}    credit_card   \n",
       "\n",
       "   ...  country_user  signup_date  risk_score     category  country_merchant  \\\n",
       "0  ...        Sweden   2022-08-10    0.426675       travel            France   \n",
       "1  ...        France   2024-05-22    0.729627  electronics           Germany   \n",
       "2  ...         Italy   2021-05-18    0.393848       gaming           Denmark   \n",
       "3  ...      Portugal   2021-09-05    0.393405  electronics          Portugal   \n",
       "4  ...       Austria   2023-06-01    0.524168       gaming             Spain   \n",
       "\n",
       "  trust_score number_of_alerts_last_6_months avg_transaction_amount  \\\n",
       "0    0.581711                              3                  74.97   \n",
       "1    0.568933                              2                  56.92   \n",
       "2    0.608070                              5                  98.93   \n",
       "3    0.592656                              4                  21.60   \n",
       "4    0.450223                              4                  60.61   \n",
       "\n",
       "   account_age_months  has_fraud_history  \n",
       "0                  23                  1  \n",
       "1                  23                  0  \n",
       "2                  75                  0  \n",
       "3                  82                  0  \n",
       "4                  82                  0  \n",
       "\n",
       "[5 rows x 30 columns]"
      ],
      "text/html": [
       "<div>\n",
       "<style scoped>\n",
       "    .dataframe tbody tr th:only-of-type {\n",
       "        vertical-align: middle;\n",
       "    }\n",
       "\n",
       "    .dataframe tbody tr th {\n",
       "        vertical-align: top;\n",
       "    }\n",
       "\n",
       "    .dataframe thead th {\n",
       "        text-align: right;\n",
       "    }\n",
       "</style>\n",
       "<table border=\"1\" class=\"dataframe\">\n",
       "  <thead>\n",
       "    <tr style=\"text-align: right;\">\n",
       "      <th></th>\n",
       "      <th>transaction_id</th>\n",
       "      <th>timestamp</th>\n",
       "      <th>user_id</th>\n",
       "      <th>merchant_id</th>\n",
       "      <th>amount</th>\n",
       "      <th>channel</th>\n",
       "      <th>currency</th>\n",
       "      <th>device</th>\n",
       "      <th>location</th>\n",
       "      <th>payment_method</th>\n",
       "      <th>...</th>\n",
       "      <th>country_user</th>\n",
       "      <th>signup_date</th>\n",
       "      <th>risk_score</th>\n",
       "      <th>category</th>\n",
       "      <th>country_merchant</th>\n",
       "      <th>trust_score</th>\n",
       "      <th>number_of_alerts_last_6_months</th>\n",
       "      <th>avg_transaction_amount</th>\n",
       "      <th>account_age_months</th>\n",
       "      <th>has_fraud_history</th>\n",
       "    </tr>\n",
       "  </thead>\n",
       "  <tbody>\n",
       "    <tr>\n",
       "      <th>0</th>\n",
       "      <td>TX000000</td>\n",
       "      <td>2022-06-17 23:28:00</td>\n",
       "      <td>U14804</td>\n",
       "      <td>M0314</td>\n",
       "      <td>130.03</td>\n",
       "      <td>in-store</td>\n",
       "      <td>EUR</td>\n",
       "      <td>Android</td>\n",
       "      <td>{'lat': 40.057938, 'long': 14.959737}</td>\n",
       "      <td>debit_card</td>\n",
       "      <td>...</td>\n",
       "      <td>Sweden</td>\n",
       "      <td>2022-08-10</td>\n",
       "      <td>0.426675</td>\n",
       "      <td>travel</td>\n",
       "      <td>France</td>\n",
       "      <td>0.581711</td>\n",
       "      <td>3</td>\n",
       "      <td>74.97</td>\n",
       "      <td>23</td>\n",
       "      <td>1</td>\n",
       "    </tr>\n",
       "    <tr>\n",
       "      <th>1</th>\n",
       "      <td>TX000001</td>\n",
       "      <td>2022-01-04 15:39:00</td>\n",
       "      <td>U16634</td>\n",
       "      <td>M0675</td>\n",
       "      <td>132.00</td>\n",
       "      <td>online</td>\n",
       "      <td>EUR</td>\n",
       "      <td>Android</td>\n",
       "      <td>{'lat': 42.05935, 'long': 1.596625}</td>\n",
       "      <td>debit_card</td>\n",
       "      <td>...</td>\n",
       "      <td>France</td>\n",
       "      <td>2024-05-22</td>\n",
       "      <td>0.729627</td>\n",
       "      <td>electronics</td>\n",
       "      <td>Germany</td>\n",
       "      <td>0.568933</td>\n",
       "      <td>2</td>\n",
       "      <td>56.92</td>\n",
       "      <td>23</td>\n",
       "      <td>0</td>\n",
       "    </tr>\n",
       "    <tr>\n",
       "      <th>2</th>\n",
       "      <td>TX000002</td>\n",
       "      <td>2022-09-09 21:58:00</td>\n",
       "      <td>U18005</td>\n",
       "      <td>M0479</td>\n",
       "      <td>8.65</td>\n",
       "      <td>online</td>\n",
       "      <td>EUR</td>\n",
       "      <td>Android</td>\n",
       "      <td>{'lat': 50.923432, 'long': 21.795262}</td>\n",
       "      <td>credit_card</td>\n",
       "      <td>...</td>\n",
       "      <td>Italy</td>\n",
       "      <td>2021-05-18</td>\n",
       "      <td>0.393848</td>\n",
       "      <td>gaming</td>\n",
       "      <td>Denmark</td>\n",
       "      <td>0.608070</td>\n",
       "      <td>5</td>\n",
       "      <td>98.93</td>\n",
       "      <td>75</td>\n",
       "      <td>0</td>\n",
       "    </tr>\n",
       "    <tr>\n",
       "      <th>3</th>\n",
       "      <td>TX000003</td>\n",
       "      <td>2023-11-20 06:40:00</td>\n",
       "      <td>U13690</td>\n",
       "      <td>M0538</td>\n",
       "      <td>19.82</td>\n",
       "      <td>mobile</td>\n",
       "      <td>EUR</td>\n",
       "      <td>iOS</td>\n",
       "      <td>{'lat': 56.833396, 'long': -9.881566}</td>\n",
       "      <td>credit_card</td>\n",
       "      <td>...</td>\n",
       "      <td>Portugal</td>\n",
       "      <td>2021-09-05</td>\n",
       "      <td>0.393405</td>\n",
       "      <td>electronics</td>\n",
       "      <td>Portugal</td>\n",
       "      <td>0.592656</td>\n",
       "      <td>4</td>\n",
       "      <td>21.60</td>\n",
       "      <td>82</td>\n",
       "      <td>0</td>\n",
       "    </tr>\n",
       "    <tr>\n",
       "      <th>4</th>\n",
       "      <td>TX000004</td>\n",
       "      <td>2022-04-28 08:08:00</td>\n",
       "      <td>U04642</td>\n",
       "      <td>M0128</td>\n",
       "      <td>101.92</td>\n",
       "      <td>in-store</td>\n",
       "      <td>EUR</td>\n",
       "      <td>Android</td>\n",
       "      <td>{'lat': 54.042996, 'long': 2.168516}</td>\n",
       "      <td>credit_card</td>\n",
       "      <td>...</td>\n",
       "      <td>Austria</td>\n",
       "      <td>2023-06-01</td>\n",
       "      <td>0.524168</td>\n",
       "      <td>gaming</td>\n",
       "      <td>Spain</td>\n",
       "      <td>0.450223</td>\n",
       "      <td>4</td>\n",
       "      <td>60.61</td>\n",
       "      <td>82</td>\n",
       "      <td>0</td>\n",
       "    </tr>\n",
       "  </tbody>\n",
       "</table>\n",
       "<p>5 rows × 30 columns</p>\n",
       "</div>"
      ]
     },
     "execution_count": 51,
     "metadata": {},
     "output_type": "execute_result"
    }
   ],
   "execution_count": 51
  },
  {
   "metadata": {
    "ExecuteTime": {
     "end_time": "2025-06-09T20:01:27.928741Z",
     "start_time": "2025-06-09T20:01:27.652398Z"
    }
   },
   "cell_type": "code",
   "source": "df.describe().T",
   "id": "df80ab91b13e2e91",
   "outputs": [
    {
     "data": {
      "text/plain": [
       "                                   count                           mean  \\\n",
       "timestamp                         500000  2022-12-31 16:45:04.497720576   \n",
       "amount                          500000.0                      49.915662   \n",
       "is_international                500000.0                       0.928662   \n",
       "session_length_seconds          500000.0                     614.987182   \n",
       "is_first_time_merchant          500000.0                       0.501248   \n",
       "is_fraud                        500000.0                       0.084822   \n",
       "age                             500000.0                      45.951568   \n",
       "sum_of_monthly_installments     500000.0                     301.355199   \n",
       "sum_of_monthly_expenses         500000.0                    1182.346649   \n",
       "signup_date                       500000  2022-10-06 13:27:43.660799744   \n",
       "risk_score                      500000.0                       0.501592   \n",
       "trust_score                     500000.0                       0.682945   \n",
       "number_of_alerts_last_6_months  500000.0                       3.056854   \n",
       "avg_transaction_amount          500000.0                      81.851645   \n",
       "account_age_months              500000.0                      61.546824   \n",
       "has_fraud_history               500000.0                       0.520824   \n",
       "\n",
       "                                                min                  25%  \\\n",
       "timestamp                       2022-01-01 00:06:00  2022-07-01 11:03:45   \n",
       "amount                                          0.0                14.37   \n",
       "is_international                                0.0                  1.0   \n",
       "session_length_seconds                         30.0                323.0   \n",
       "is_first_time_merchant                          0.0                  0.0   \n",
       "is_fraud                                        0.0                  0.0   \n",
       "age                                            18.0                 32.0   \n",
       "sum_of_monthly_installments                    0.01                87.43   \n",
       "sum_of_monthly_expenses                        0.04               353.66   \n",
       "signup_date                     2020-04-21 00:00:00  2021-07-09 00:00:00   \n",
       "risk_score                                      0.0             0.398761   \n",
       "trust_score                                     0.0             0.546098   \n",
       "number_of_alerts_last_6_months                  0.0                  2.0   \n",
       "avg_transaction_amount                         0.12                24.72   \n",
       "account_age_months                              6.0                 32.0   \n",
       "has_fraud_history                               0.0                  0.0   \n",
       "\n",
       "                                                50%                  75%  \\\n",
       "timestamp                       2022-12-31 20:08:30  2023-07-02 08:45:15   \n",
       "amount                                        34.56              69.1725   \n",
       "is_international                                1.0                  1.0   \n",
       "session_length_seconds                        614.0                907.0   \n",
       "is_first_time_merchant                          1.0                  1.0   \n",
       "is_fraud                                        0.0                  0.0   \n",
       "age                                            46.0                 60.0   \n",
       "sum_of_monthly_installments                  207.33                418.0   \n",
       "sum_of_monthly_expenses                      825.19              1650.44   \n",
       "signup_date                     2022-10-08 00:00:00  2023-12-29 00:00:00   \n",
       "risk_score                                 0.500496             0.603615   \n",
       "trust_score                                0.697761             0.826846   \n",
       "number_of_alerts_last_6_months                  3.0                  4.0   \n",
       "avg_transaction_amount                        58.29               117.19   \n",
       "account_age_months                             61.0                 92.0   \n",
       "has_fraud_history                               1.0                  1.0   \n",
       "\n",
       "                                                max         std  \n",
       "timestamp                       2023-12-31 23:57:00         NaN  \n",
       "amount                                       714.86   49.990657  \n",
       "is_international                                1.0    0.257389  \n",
       "session_length_seconds                       1200.0  338.091496  \n",
       "is_first_time_merchant                          1.0    0.499999  \n",
       "is_fraud                                        1.0    0.278617  \n",
       "age                                            74.0   16.525405  \n",
       "sum_of_monthly_installments                  3165.7  303.515308  \n",
       "sum_of_monthly_expenses                    10994.33  1168.96796  \n",
       "signup_date                     2025-03-22 00:00:00         NaN  \n",
       "risk_score                                      1.0    0.149917  \n",
       "trust_score                                     1.0    0.194412  \n",
       "number_of_alerts_last_6_months                  9.0    1.722031  \n",
       "avg_transaction_amount                       709.04   79.139077  \n",
       "account_age_months                            119.0   33.427673  \n",
       "has_fraud_history                               1.0    0.499567  "
      ],
      "text/html": [
       "<div>\n",
       "<style scoped>\n",
       "    .dataframe tbody tr th:only-of-type {\n",
       "        vertical-align: middle;\n",
       "    }\n",
       "\n",
       "    .dataframe tbody tr th {\n",
       "        vertical-align: top;\n",
       "    }\n",
       "\n",
       "    .dataframe thead th {\n",
       "        text-align: right;\n",
       "    }\n",
       "</style>\n",
       "<table border=\"1\" class=\"dataframe\">\n",
       "  <thead>\n",
       "    <tr style=\"text-align: right;\">\n",
       "      <th></th>\n",
       "      <th>count</th>\n",
       "      <th>mean</th>\n",
       "      <th>min</th>\n",
       "      <th>25%</th>\n",
       "      <th>50%</th>\n",
       "      <th>75%</th>\n",
       "      <th>max</th>\n",
       "      <th>std</th>\n",
       "    </tr>\n",
       "  </thead>\n",
       "  <tbody>\n",
       "    <tr>\n",
       "      <th>timestamp</th>\n",
       "      <td>500000</td>\n",
       "      <td>2022-12-31 16:45:04.497720576</td>\n",
       "      <td>2022-01-01 00:06:00</td>\n",
       "      <td>2022-07-01 11:03:45</td>\n",
       "      <td>2022-12-31 20:08:30</td>\n",
       "      <td>2023-07-02 08:45:15</td>\n",
       "      <td>2023-12-31 23:57:00</td>\n",
       "      <td>NaN</td>\n",
       "    </tr>\n",
       "    <tr>\n",
       "      <th>amount</th>\n",
       "      <td>500000.0</td>\n",
       "      <td>49.915662</td>\n",
       "      <td>0.0</td>\n",
       "      <td>14.37</td>\n",
       "      <td>34.56</td>\n",
       "      <td>69.1725</td>\n",
       "      <td>714.86</td>\n",
       "      <td>49.990657</td>\n",
       "    </tr>\n",
       "    <tr>\n",
       "      <th>is_international</th>\n",
       "      <td>500000.0</td>\n",
       "      <td>0.928662</td>\n",
       "      <td>0.0</td>\n",
       "      <td>1.0</td>\n",
       "      <td>1.0</td>\n",
       "      <td>1.0</td>\n",
       "      <td>1.0</td>\n",
       "      <td>0.257389</td>\n",
       "    </tr>\n",
       "    <tr>\n",
       "      <th>session_length_seconds</th>\n",
       "      <td>500000.0</td>\n",
       "      <td>614.987182</td>\n",
       "      <td>30.0</td>\n",
       "      <td>323.0</td>\n",
       "      <td>614.0</td>\n",
       "      <td>907.0</td>\n",
       "      <td>1200.0</td>\n",
       "      <td>338.091496</td>\n",
       "    </tr>\n",
       "    <tr>\n",
       "      <th>is_first_time_merchant</th>\n",
       "      <td>500000.0</td>\n",
       "      <td>0.501248</td>\n",
       "      <td>0.0</td>\n",
       "      <td>0.0</td>\n",
       "      <td>1.0</td>\n",
       "      <td>1.0</td>\n",
       "      <td>1.0</td>\n",
       "      <td>0.499999</td>\n",
       "    </tr>\n",
       "    <tr>\n",
       "      <th>is_fraud</th>\n",
       "      <td>500000.0</td>\n",
       "      <td>0.084822</td>\n",
       "      <td>0.0</td>\n",
       "      <td>0.0</td>\n",
       "      <td>0.0</td>\n",
       "      <td>0.0</td>\n",
       "      <td>1.0</td>\n",
       "      <td>0.278617</td>\n",
       "    </tr>\n",
       "    <tr>\n",
       "      <th>age</th>\n",
       "      <td>500000.0</td>\n",
       "      <td>45.951568</td>\n",
       "      <td>18.0</td>\n",
       "      <td>32.0</td>\n",
       "      <td>46.0</td>\n",
       "      <td>60.0</td>\n",
       "      <td>74.0</td>\n",
       "      <td>16.525405</td>\n",
       "    </tr>\n",
       "    <tr>\n",
       "      <th>sum_of_monthly_installments</th>\n",
       "      <td>500000.0</td>\n",
       "      <td>301.355199</td>\n",
       "      <td>0.01</td>\n",
       "      <td>87.43</td>\n",
       "      <td>207.33</td>\n",
       "      <td>418.0</td>\n",
       "      <td>3165.7</td>\n",
       "      <td>303.515308</td>\n",
       "    </tr>\n",
       "    <tr>\n",
       "      <th>sum_of_monthly_expenses</th>\n",
       "      <td>500000.0</td>\n",
       "      <td>1182.346649</td>\n",
       "      <td>0.04</td>\n",
       "      <td>353.66</td>\n",
       "      <td>825.19</td>\n",
       "      <td>1650.44</td>\n",
       "      <td>10994.33</td>\n",
       "      <td>1168.96796</td>\n",
       "    </tr>\n",
       "    <tr>\n",
       "      <th>signup_date</th>\n",
       "      <td>500000</td>\n",
       "      <td>2022-10-06 13:27:43.660799744</td>\n",
       "      <td>2020-04-21 00:00:00</td>\n",
       "      <td>2021-07-09 00:00:00</td>\n",
       "      <td>2022-10-08 00:00:00</td>\n",
       "      <td>2023-12-29 00:00:00</td>\n",
       "      <td>2025-03-22 00:00:00</td>\n",
       "      <td>NaN</td>\n",
       "    </tr>\n",
       "    <tr>\n",
       "      <th>risk_score</th>\n",
       "      <td>500000.0</td>\n",
       "      <td>0.501592</td>\n",
       "      <td>0.0</td>\n",
       "      <td>0.398761</td>\n",
       "      <td>0.500496</td>\n",
       "      <td>0.603615</td>\n",
       "      <td>1.0</td>\n",
       "      <td>0.149917</td>\n",
       "    </tr>\n",
       "    <tr>\n",
       "      <th>trust_score</th>\n",
       "      <td>500000.0</td>\n",
       "      <td>0.682945</td>\n",
       "      <td>0.0</td>\n",
       "      <td>0.546098</td>\n",
       "      <td>0.697761</td>\n",
       "      <td>0.826846</td>\n",
       "      <td>1.0</td>\n",
       "      <td>0.194412</td>\n",
       "    </tr>\n",
       "    <tr>\n",
       "      <th>number_of_alerts_last_6_months</th>\n",
       "      <td>500000.0</td>\n",
       "      <td>3.056854</td>\n",
       "      <td>0.0</td>\n",
       "      <td>2.0</td>\n",
       "      <td>3.0</td>\n",
       "      <td>4.0</td>\n",
       "      <td>9.0</td>\n",
       "      <td>1.722031</td>\n",
       "    </tr>\n",
       "    <tr>\n",
       "      <th>avg_transaction_amount</th>\n",
       "      <td>500000.0</td>\n",
       "      <td>81.851645</td>\n",
       "      <td>0.12</td>\n",
       "      <td>24.72</td>\n",
       "      <td>58.29</td>\n",
       "      <td>117.19</td>\n",
       "      <td>709.04</td>\n",
       "      <td>79.139077</td>\n",
       "    </tr>\n",
       "    <tr>\n",
       "      <th>account_age_months</th>\n",
       "      <td>500000.0</td>\n",
       "      <td>61.546824</td>\n",
       "      <td>6.0</td>\n",
       "      <td>32.0</td>\n",
       "      <td>61.0</td>\n",
       "      <td>92.0</td>\n",
       "      <td>119.0</td>\n",
       "      <td>33.427673</td>\n",
       "    </tr>\n",
       "    <tr>\n",
       "      <th>has_fraud_history</th>\n",
       "      <td>500000.0</td>\n",
       "      <td>0.520824</td>\n",
       "      <td>0.0</td>\n",
       "      <td>0.0</td>\n",
       "      <td>1.0</td>\n",
       "      <td>1.0</td>\n",
       "      <td>1.0</td>\n",
       "      <td>0.499567</td>\n",
       "    </tr>\n",
       "  </tbody>\n",
       "</table>\n",
       "</div>"
      ]
     },
     "execution_count": 52,
     "metadata": {},
     "output_type": "execute_result"
    }
   ],
   "execution_count": 52
  },
  {
   "metadata": {
    "ExecuteTime": {
     "end_time": "2025-06-09T20:01:28.961973Z",
     "start_time": "2025-06-09T20:01:27.983116Z"
    }
   },
   "cell_type": "code",
   "source": "df.to_parquet(INTERIM_DATA / \"merge_data.parquet\")",
   "id": "974e2d4e5df27983",
   "outputs": [],
   "execution_count": 53
  },
  {
   "metadata": {},
   "cell_type": "markdown",
   "source": "## Users vs is_fraud",
   "id": "8b83a9e1a7b62cfa"
  },
  {
   "metadata": {
    "ExecuteTime": {
     "end_time": "2025-06-09T20:01:29.088646Z",
     "start_time": "2025-06-09T20:01:29.051543Z"
    }
   },
   "cell_type": "code",
   "source": "frauds_per_user = df.groupby('user_id')[\"is_fraud\"].sum()",
   "id": "dd2e81152f91e3dd",
   "outputs": [],
   "execution_count": 54
  },
  {
   "metadata": {
    "ExecuteTime": {
     "end_time": "2025-06-09T20:01:29.222881Z",
     "start_time": "2025-06-09T20:01:29.131110Z"
    }
   },
   "cell_type": "code",
   "source": [
    "fig, ax = plt.subplots(figsize=(12, 5))\n",
    "\n",
    "frauds_per_user.value_counts().sort_index().plot(ax=ax, kind='bar')\n",
    "\n",
    "ax.set_xlabel(\"Count fraud per user\")\n",
    "ax.set_ylabel(\"Count users\")\n",
    "\n",
    "ax.set_title(\"Distribution of frauds by user\")\n",
    "\n",
    "fig.tight_layout()\n",
    "plt.show()"
   ],
   "id": "3a9272eab77b1cc1",
   "outputs": [
    {
     "data": {
      "text/plain": [
       "<Figure size 1200x500 with 1 Axes>"
      ],
      "image/png": "[encoded data removed]"
     },
     "metadata": {},
     "output_type": "display_data"
    }
   ],
   "execution_count": 55
  },
  {
   "metadata": {
    "ExecuteTime": {
     "end_time": "2025-06-09T20:01:29.306738Z",
     "start_time": "2025-06-09T20:01:29.266947Z"
    }
   },
   "cell_type": "code",
   "source": "transactions_per_user = df.groupby('user_id')[\"is_fraud\"].count()",
   "id": "9070930ce476fbf3",
   "outputs": [],
   "execution_count": 56
  },
  {
   "metadata": {
    "ExecuteTime": {
     "end_time": "2025-06-09T20:01:29.516148Z",
     "start_time": "2025-06-09T20:01:29.331787Z"
    }
   },
   "cell_type": "code",
   "source": [
    "fig, ax = plt.subplots(figsize=(12, 5))\n",
    "\n",
    "transactions_per_user.value_counts().sort_index().plot(ax=ax, kind='bar')\n",
    "\n",
    "ax.set_xlabel(\"Count fraud per user\")\n",
    "ax.set_ylabel(\"Count users\")\n",
    "\n",
    "ax.set_title(\"Distribution of frauds by user\")\n",
    "\n",
    "fig.tight_layout()\n",
    "plt.show()"
   ],
   "id": "1ba0a31bea0d5350",
   "outputs": [
    {
     "data": {
      "text/plain": [
       "<Figure size 1200x500 with 1 Axes>"
      ],
      "image/png": "[encoded data removed]"
     },
     "metadata": {},
     "output_type": "display_data"
    }
   ],
   "execution_count": 57
  },
  {
   "metadata": {
    "ExecuteTime": {
     "end_time": "2025-06-09T20:01:29.596662Z",
     "start_time": "2025-06-09T20:01:29.551581Z"
    }
   },
   "cell_type": "code",
   "source": [
    "user_stats = (\n",
    "\tdf.groupby('user_id')\n",
    "\t.agg(transactions=('is_fraud', 'count'), frauds=('is_fraud', 'sum'))\n",
    ")"
   ],
   "id": "204a7efa9ca65103",
   "outputs": [],
   "execution_count": 58
  },
  {
   "metadata": {
    "ExecuteTime": {
     "end_time": "2025-06-09T20:01:29.737753Z",
     "start_time": "2025-06-09T20:01:29.623435Z"
    }
   },
   "cell_type": "code",
   "source": [
    "fig, ax = plt.subplots(figsize=(12, 5))\n",
    "\n",
    "ax.scatter(user_stats['transactions'], user_stats['frauds'], alpha=0.3)\n",
    "\n",
    "ax.set_xlabel(\"Transactions Count per user\")\n",
    "ax.set_ylabel(\"Frauds Count per user\")\n",
    "\n",
    "ax.set_title(\"Relationship between transactions and frauds\")\n",
    "\n",
    "fig.tight_layout()\n",
    "plt.show()"
   ],
   "id": "a32ed086049d5dd5",
   "outputs": [
    {
     "data": {
      "text/plain": [
       "<Figure size 1200x500 with 1 Axes>"
      ],
      "image/png": "[encoded data removed]"
     },
     "metadata": {},
     "output_type": "display_data"
    }
   ],
   "execution_count": 59
  },
  {
   "metadata": {
    "ExecuteTime": {
     "end_time": "2025-06-09T20:01:29.770185Z",
     "start_time": "2025-06-09T20:01:29.765654Z"
    }
   },
   "cell_type": "code",
   "source": "corr = user_stats.corr()",
   "id": "38b5926132b0047e",
   "outputs": [],
   "execution_count": 60
  },
  {
   "metadata": {
    "ExecuteTime": {
     "end_time": "2025-06-09T20:01:29.915154Z",
     "start_time": "2025-06-09T20:01:29.815758Z"
    }
   },
   "cell_type": "code",
   "source": [
    "fig, ax = plt.subplots(figsize=(6, 4))\n",
    "\n",
    "sns.heatmap(corr,\n",
    "\t\t\tax=ax,\n",
    "\t\t\tannot=True,\n",
    "\t\t\tfmt=\".2f\",\n",
    "\t\t\tsquare=True,\n",
    "\t\t\tlinewidths=.5,\n",
    "\t\t\tcbar_kws={\"shrink\": .8},\n",
    "\t\t\tcmap=\"coolwarm\"\n",
    "\t\t\t)\n",
    "\n",
    "ax.set_title(\"Correlation Heatmap\", fontsize=14)\n",
    "plt.tight_layout()\n",
    "plt.show()"
   ],
   "id": "44d118313d0b659a",
   "outputs": [
    {
     "data": {
      "text/plain": [
       "<Figure size 600x400 with 2 Axes>"
      ],
      "image/png": "[encoded data removed]"
     },
     "metadata": {},
     "output_type": "display_data"
    }
   ],
   "execution_count": 61
  },
  {
   "metadata": {},
   "cell_type": "markdown",
   "source": "Merchants vs is_fraud",
   "id": "86c31bf89c7bb61"
  },
  {
   "metadata": {
    "ExecuteTime": {
     "end_time": "2025-06-09T20:01:29.945629Z",
     "start_time": "2025-06-09T20:01:29.921048Z"
    }
   },
   "cell_type": "code",
   "source": [
    "merchants_stats = (\n",
    "\tdf.groupby('merchant_id')\n",
    "\t.agg(transactions=('is_fraud', 'count'), frauds=('is_fraud', 'sum'))\n",
    ")"
   ],
   "id": "7319a7b3ecce1573",
   "outputs": [],
   "execution_count": 62
  },
  {
   "metadata": {
    "ExecuteTime": {
     "end_time": "2025-06-09T20:01:30.095943Z",
     "start_time": "2025-06-09T20:01:29.988872Z"
    }
   },
   "cell_type": "code",
   "source": [
    "fig, ax = plt.subplots(figsize=(12, 5))\n",
    "\n",
    "sns.scatterplot(\n",
    "\tdata=merchants_stats,\n",
    "\tax=ax,\n",
    "\tx='transactions',\n",
    "\ty='frauds',\n",
    "\talpha=0.3,\n",
    ")\n",
    "\n",
    "ax.set_title(\"Relationship between transactions and merchants\")\n",
    "ax.set_xlabel(\"Transactions Count per merchant\")\n",
    "ax.set_ylabel(\"Frauds Count per merchant\")\n",
    "\n",
    "\n",
    "\n",
    "fig.tight_layout()\n",
    "plt.show()"
   ],
   "id": "18f50a705b292017",
   "outputs": [
    {
     "data": {
      "text/plain": [
       "<Figure size 1200x500 with 1 Axes>"
      ],
      "image/png": "[encoded data removed]"
     },
     "metadata": {},
     "output_type": "display_data"
    }
   ],
   "execution_count": 63
  },
  {
   "metadata": {
    "ExecuteTime": {
     "end_time": "2025-06-09T20:01:30.193218Z",
     "start_time": "2025-06-09T20:01:30.151958Z"
    }
   },
   "cell_type": "code",
   "source": [
    "frauds_by_merchant = (\n",
    "\tdf.groupby('merchant_id')\n",
    "\t.agg(frauds=('is_fraud', 'sum'))\n",
    "\t.sort_values(\"frauds\", ascending=False)\n",
    ")\n",
    "\n",
    "top_merchants = frauds_by_merchant.head(1)\n",
    "\n",
    "df.loc[df[\"merchant_id\"].isin(top_merchants.index)]"
   ],
   "id": "ee470312f0584204",
   "outputs": [
    {
     "data": {
      "text/plain": [
       "       transaction_id           timestamp user_id merchant_id  amount  \\\n",
       "154          TX000154 2022-01-16 21:22:00  U01157       M0167  218.82   \n",
       "1359         TX001359 2022-04-09 07:06:00  U16075       M0167   25.06   \n",
       "1597         TX001597 2023-11-09 17:52:00  U14985       M0167    1.61   \n",
       "1623         TX001623 2023-11-08 09:27:00  U09748       M0167   70.88   \n",
       "2349         TX002349 2022-02-22 06:19:00  U11293       M0167   10.39   \n",
       "...               ...                 ...     ...         ...     ...   \n",
       "495521       TX495521 2023-04-09 17:09:00  U06498       M0167   24.53   \n",
       "495620       TX495620 2022-02-20 12:00:00  U15511       M0167  123.65   \n",
       "496664       TX496664 2023-12-14 09:10:00  U08663       M0167   23.53   \n",
       "499416       TX499416 2023-08-22 19:03:00  U11839       M0167   15.08   \n",
       "499874       TX499874 2022-08-24 07:50:00  U09780       M0167   68.43   \n",
       "\n",
       "         channel currency   device                               location  \\\n",
       "154       online      EUR      Web  {'lat': 67.173166, 'long': 32.067447}   \n",
       "1359      mobile      EUR      iOS    {'lat': 68.06013, 'long': -4.49175}   \n",
       "1597      online      EUR      Web  {'lat': 57.376999, 'long': 12.967244}   \n",
       "1623      online      EUR  Android  {'lat': 40.887693, 'long': 30.813473}   \n",
       "2349      online      EUR      Web    {'lat': 52.18455, 'long': 29.82342}   \n",
       "...          ...      ...      ...                                    ...   \n",
       "495521    online      EUR      Web  {'lat': 52.263812, 'long': 32.602421}   \n",
       "495620    mobile      EUR      iOS  {'lat': 54.094953, 'long': 38.323477}   \n",
       "496664  in-store      EUR  Android  {'lat': 35.354135, 'long': 23.242417}   \n",
       "499416    online      EUR      Web  {'lat': 39.508264, 'long': 22.168626}   \n",
       "499874  in-store      EUR      Web  {'lat': 56.747133, 'long': -7.683695}   \n",
       "\n",
       "        payment_method  ...    country_user  signup_date  risk_score  \\\n",
       "154         debit_card  ...         Belgium   2021-05-17    0.417407   \n",
       "1359       credit_card  ...  Czech Republic   2024-04-30    0.275460   \n",
       "1597    mobile_payment  ...         Finland   2024-10-01    0.306114   \n",
       "1623     bank_transfer  ...         Austria   2023-11-25    0.718623   \n",
       "2349    mobile_payment  ...     Netherlands   2021-07-01    0.401525   \n",
       "...                ...  ...             ...          ...         ...   \n",
       "495521   bank_transfer  ...          France   2023-05-20    0.409616   \n",
       "495620      debit_card  ...         Austria   2021-05-21    0.827028   \n",
       "496664  mobile_payment  ...           Spain   2023-09-18    0.230708   \n",
       "499416   bank_transfer  ...           Spain   2023-03-25    0.512608   \n",
       "499874  mobile_payment  ...           Italy   2021-03-19    0.436999   \n",
       "\n",
       "        category  country_merchant trust_score number_of_alerts_last_6_months  \\\n",
       "154     clothing           Austria    0.121984                              0   \n",
       "1359    clothing           Austria    0.121984                              0   \n",
       "1597    clothing           Austria    0.121984                              0   \n",
       "1623    clothing           Austria    0.121984                              0   \n",
       "2349    clothing           Austria    0.121984                              0   \n",
       "...          ...               ...         ...                            ...   \n",
       "495521  clothing           Austria    0.121984                              0   \n",
       "495620  clothing           Austria    0.121984                              0   \n",
       "496664  clothing           Austria    0.121984                              0   \n",
       "499416  clothing           Austria    0.121984                              0   \n",
       "499874  clothing           Austria    0.121984                              0   \n",
       "\n",
       "       avg_transaction_amount  account_age_months  has_fraud_history  \n",
       "154                     77.46                  78                  1  \n",
       "1359                    77.46                  78                  1  \n",
       "1597                    77.46                  78                  1  \n",
       "1623                    77.46                  78                  1  \n",
       "2349                    77.46                  78                  1  \n",
       "...                       ...                 ...                ...  \n",
       "495521                  77.46                  78                  1  \n",
       "495620                  77.46                  78                  1  \n",
       "496664                  77.46                  78                  1  \n",
       "499416                  77.46                  78                  1  \n",
       "499874                  77.46                  78                  1  \n",
       "\n",
       "[570 rows x 30 columns]"
      ],
      "text/html": [
       "<div>\n",
       "<style scoped>\n",
       "    .dataframe tbody tr th:only-of-type {\n",
       "        vertical-align: middle;\n",
       "    }\n",
       "\n",
       "    .dataframe tbody tr th {\n",
       "        vertical-align: top;\n",
       "    }\n",
       "\n",
       "    .dataframe thead th {\n",
       "        text-align: right;\n",
       "    }\n",
       "</style>\n",
       "<table border=\"1\" class=\"dataframe\">\n",
       "  <thead>\n",
       "    <tr style=\"text-align: right;\">\n",
       "      <th></th>\n",
       "      <th>transaction_id</th>\n",
       "      <th>timestamp</th>\n",
       "      <th>user_id</th>\n",
       "      <th>merchant_id</th>\n",
       "      <th>amount</th>\n",
       "      <th>channel</th>\n",
       "      <th>currency</th>\n",
       "      <th>device</th>\n",
       "      <th>location</th>\n",
       "      <th>payment_method</th>\n",
       "      <th>...</th>\n",
       "      <th>country_user</th>\n",
       "      <th>signup_date</th>\n",
       "      <th>risk_score</th>\n",
       "      <th>category</th>\n",
       "      <th>country_merchant</th>\n",
       "      <th>trust_score</th>\n",
       "      <th>number_of_alerts_last_6_months</th>\n",
       "      <th>avg_transaction_amount</th>\n",
       "      <th>account_age_months</th>\n",
       "      <th>has_fraud_history</th>\n",
       "    </tr>\n",
       "  </thead>\n",
       "  <tbody>\n",
       "    <tr>\n",
       "      <th>154</th>\n",
       "      <td>TX000154</td>\n",
       "      <td>2022-01-16 21:22:00</td>\n",
       "      <td>U01157</td>\n",
       "      <td>M0167</td>\n",
       "      <td>218.82</td>\n",
       "      <td>online</td>\n",
       "      <td>EUR</td>\n",
       "      <td>Web</td>\n",
       "      <td>{'lat': 67.173166, 'long': 32.067447}</td>\n",
       "      <td>debit_card</td>\n",
       "      <td>...</td>\n",
       "      <td>Belgium</td>\n",
       "      <td>2021-05-17</td>\n",
       "      <td>0.417407</td>\n",
       "      <td>clothing</td>\n",
       "      <td>Austria</td>\n",
       "      <td>0.121984</td>\n",
       "      <td>0</td>\n",
       "      <td>77.46</td>\n",
       "      <td>78</td>\n",
       "      <td>1</td>\n",
       "    </tr>\n",
       "    <tr>\n",
       "      <th>1359</th>\n",
       "      <td>TX001359</td>\n",
       "      <td>2022-04-09 07:06:00</td>\n",
       "      <td>U16075</td>\n",
       "      <td>M0167</td>\n",
       "      <td>25.06</td>\n",
       "      <td>mobile</td>\n",
       "      <td>EUR</td>\n",
       "      <td>iOS</td>\n",
       "      <td>{'lat': 68.06013, 'long': -4.49175}</td>\n",
       "      <td>credit_card</td>\n",
       "      <td>...</td>\n",
       "      <td>Czech Republic</td>\n",
       "      <td>2024-04-30</td>\n",
       "      <td>0.275460</td>\n",
       "      <td>clothing</td>\n",
       "      <td>Austria</td>\n",
       "      <td>0.121984</td>\n",
       "      <td>0</td>\n",
       "      <td>77.46</td>\n",
       "      <td>78</td>\n",
       "      <td>1</td>\n",
       "    </tr>\n",
       "    <tr>\n",
       "      <th>1597</th>\n",
       "      <td>TX001597</td>\n",
       "      <td>2023-11-09 17:52:00</td>\n",
       "      <td>U14985</td>\n",
       "      <td>M0167</td>\n",
       "      <td>1.61</td>\n",
       "      <td>online</td>\n",
       "      <td>EUR</td>\n",
       "      <td>Web</td>\n",
       "      <td>{'lat': 57.376999, 'long': 12.967244}</td>\n",
       "      <td>mobile_payment</td>\n",
       "      <td>...</td>\n",
       "      <td>Finland</td>\n",
       "      <td>2024-10-01</td>\n",
       "      <td>0.306114</td>\n",
       "      <td>clothing</td>\n",
       "      <td>Austria</td>\n",
       "      <td>0.121984</td>\n",
       "      <td>0</td>\n",
       "      <td>77.46</td>\n",
       "      <td>78</td>\n",
       "      <td>1</td>\n",
       "    </tr>\n",
       "    <tr>\n",
       "      <th>1623</th>\n",
       "      <td>TX001623</td>\n",
       "      <td>2023-11-08 09:27:00</td>\n",
       "      <td>U09748</td>\n",
       "      <td>M0167</td>\n",
       "      <td>70.88</td>\n",
       "      <td>online</td>\n",
       "      <td>EUR</td>\n",
       "      <td>Android</td>\n",
       "      <td>{'lat': 40.887693, 'long': 30.813473}</td>\n",
       "      <td>bank_transfer</td>\n",
       "      <td>...</td>\n",
       "      <td>Austria</td>\n",
       "      <td>2023-11-25</td>\n",
       "      <td>0.718623</td>\n",
       "      <td>clothing</td>\n",
       "      <td>Austria</td>\n",
       "      <td>0.121984</td>\n",
       "      <td>0</td>\n",
       "      <td>77.46</td>\n",
       "      <td>78</td>\n",
       "      <td>1</td>\n",
       "    </tr>\n",
       "    <tr>\n",
       "      <th>2349</th>\n",
       "      <td>TX002349</td>\n",
       "      <td>2022-02-22 06:19:00</td>\n",
       "      <td>U11293</td>\n",
       "      <td>M0167</td>\n",
       "      <td>10.39</td>\n",
       "      <td>online</td>\n",
       "      <td>EUR</td>\n",
       "      <td>Web</td>\n",
       "      <td>{'lat': 52.18455, 'long': 29.82342}</td>\n",
       "      <td>mobile_payment</td>\n",
       "      <td>...</td>\n",
       "      <td>Netherlands</td>\n",
       "      <td>2021-07-01</td>\n",
       "      <td>0.401525</td>\n",
       "      <td>clothing</td>\n",
       "      <td>Austria</td>\n",
       "      <td>0.121984</td>\n",
       "      <td>0</td>\n",
       "      <td>77.46</td>\n",
       "      <td>78</td>\n",
       "      <td>1</td>\n",
       "    </tr>\n",
       "    <tr>\n",
       "      <th>...</th>\n",
       "      <td>...</td>\n",
       "      <td>...</td>\n",
       "      <td>...</td>\n",
       "      <td>...</td>\n",
       "      <td>...</td>\n",
       "      <td>...</td>\n",
       "      <td>...</td>\n",
       "      <td>...</td>\n",
       "      <td>...</td>\n",
       "      <td>...</td>\n",
       "      <td>...</td>\n",
       "      <td>...</td>\n",
       "      <td>...</td>\n",
       "      <td>...</td>\n",
       "      <td>...</td>\n",
       "      <td>...</td>\n",
       "      <td>...</td>\n",
       "      <td>...</td>\n",
       "      <td>...</td>\n",
       "      <td>...</td>\n",
       "      <td>...</td>\n",
       "    </tr>\n",
       "    <tr>\n",
       "      <th>495521</th>\n",
       "      <td>TX495521</td>\n",
       "      <td>2023-04-09 17:09:00</td>\n",
       "      <td>U06498</td>\n",
       "      <td>M0167</td>\n",
       "      <td>24.53</td>\n",
       "      <td>online</td>\n",
       "      <td>EUR</td>\n",
       "      <td>Web</td>\n",
       "      <td>{'lat': 52.263812, 'long': 32.602421}</td>\n",
       "      <td>bank_transfer</td>\n",
       "      <td>...</td>\n",
       "      <td>France</td>\n",
       "      <td>2023-05-20</td>\n",
       "      <td>0.409616</td>\n",
       "      <td>clothing</td>\n",
       "      <td>Austria</td>\n",
       "      <td>0.121984</td>\n",
       "      <td>0</td>\n",
       "      <td>77.46</td>\n",
       "      <td>78</td>\n",
       "      <td>1</td>\n",
       "    </tr>\n",
       "    <tr>\n",
       "      <th>495620</th>\n",
       "      <td>TX495620</td>\n",
       "      <td>2022-02-20 12:00:00</td>\n",
       "      <td>U15511</td>\n",
       "      <td>M0167</td>\n",
       "      <td>123.65</td>\n",
       "      <td>mobile</td>\n",
       "      <td>EUR</td>\n",
       "      <td>iOS</td>\n",
       "      <td>{'lat': 54.094953, 'long': 38.323477}</td>\n",
       "      <td>debit_card</td>\n",
       "      <td>...</td>\n",
       "      <td>Austria</td>\n",
       "      <td>2021-05-21</td>\n",
       "      <td>0.827028</td>\n",
       "      <td>clothing</td>\n",
       "      <td>Austria</td>\n",
       "      <td>0.121984</td>\n",
       "      <td>0</td>\n",
       "      <td>77.46</td>\n",
       "      <td>78</td>\n",
       "      <td>1</td>\n",
       "    </tr>\n",
       "    <tr>\n",
       "      <th>496664</th>\n",
       "      <td>TX496664</td>\n",
       "      <td>2023-12-14 09:10:00</td>\n",
       "      <td>U08663</td>\n",
       "      <td>M0167</td>\n",
       "      <td>23.53</td>\n",
       "      <td>in-store</td>\n",
       "      <td>EUR</td>\n",
       "      <td>Android</td>\n",
       "      <td>{'lat': 35.354135, 'long': 23.242417}</td>\n",
       "      <td>mobile_payment</td>\n",
       "      <td>...</td>\n",
       "      <td>Spain</td>\n",
       "      <td>2023-09-18</td>\n",
       "      <td>0.230708</td>\n",
       "      <td>clothing</td>\n",
       "      <td>Austria</td>\n",
       "      <td>0.121984</td>\n",
       "      <td>0</td>\n",
       "      <td>77.46</td>\n",
       "      <td>78</td>\n",
       "      <td>1</td>\n",
       "    </tr>\n",
       "    <tr>\n",
       "      <th>499416</th>\n",
       "      <td>TX499416</td>\n",
       "      <td>2023-08-22 19:03:00</td>\n",
       "      <td>U11839</td>\n",
       "      <td>M0167</td>\n",
       "      <td>15.08</td>\n",
       "      <td>online</td>\n",
       "      <td>EUR</td>\n",
       "      <td>Web</td>\n",
       "      <td>{'lat': 39.508264, 'long': 22.168626}</td>\n",
       "      <td>bank_transfer</td>\n",
       "      <td>...</td>\n",
       "      <td>Spain</td>\n",
       "      <td>2023-03-25</td>\n",
       "      <td>0.512608</td>\n",
       "      <td>clothing</td>\n",
       "      <td>Austria</td>\n",
       "      <td>0.121984</td>\n",
       "      <td>0</td>\n",
       "      <td>77.46</td>\n",
       "      <td>78</td>\n",
       "      <td>1</td>\n",
       "    </tr>\n",
       "    <tr>\n",
       "      <th>499874</th>\n",
       "      <td>TX499874</td>\n",
       "      <td>2022-08-24 07:50:00</td>\n",
       "      <td>U09780</td>\n",
       "      <td>M0167</td>\n",
       "      <td>68.43</td>\n",
       "      <td>in-store</td>\n",
       "      <td>EUR</td>\n",
       "      <td>Web</td>\n",
       "      <td>{'lat': 56.747133, 'long': -7.683695}</td>\n",
       "      <td>mobile_payment</td>\n",
       "      <td>...</td>\n",
       "      <td>Italy</td>\n",
       "      <td>2021-03-19</td>\n",
       "      <td>0.436999</td>\n",
       "      <td>clothing</td>\n",
       "      <td>Austria</td>\n",
       "      <td>0.121984</td>\n",
       "      <td>0</td>\n",
       "      <td>77.46</td>\n",
       "      <td>78</td>\n",
       "      <td>1</td>\n",
       "    </tr>\n",
       "  </tbody>\n",
       "</table>\n",
       "<p>570 rows × 30 columns</p>\n",
       "</div>"
      ]
     },
     "execution_count": 64,
     "metadata": {},
     "output_type": "execute_result"
    }
   ],
   "execution_count": 64
  },
  {
   "metadata": {},
   "cell_type": "markdown",
   "source": "## Category VS is_fraud",
   "id": "229002d8580cbe18"
  },
  {
   "metadata": {
    "ExecuteTime": {
     "end_time": "2025-06-09T20:01:30.375420Z",
     "start_time": "2025-06-09T20:01:30.263345Z"
    }
   },
   "cell_type": "code",
   "source": [
    "category_stats = (\n",
    "\tdf.groupby('category')\n",
    "\t.agg(transactions=('is_fraud', 'count'), frauds=('is_fraud', 'sum'))\n",
    "\t.sort_values(\"frauds\", ascending=False)\n",
    ")\n",
    "\n",
    "print(category_stats)\n",
    "\n",
    "fig, ax = plt.subplots(figsize=(12, 5))\n",
    "\n",
    "ax.bar(category_stats.index, category_stats['frauds'], label=\"Frauds\")\n",
    "ax.bar(category_stats.index, category_stats['transactions'] - category_stats['frauds'], bottom=category_stats['frauds'], label=\"Transactions\")\n",
    "\n",
    "plt.show()\n",
    "\n",
    "ax.set_title(\"Distribution of frauds by category\")\n",
    "ax.set_xlabel(\"Category\")\n",
    "ax.set_ylabel(\"Count frauds\")\n",
    "\n",
    "fig.tight_layout()\n",
    "plt.show()\n"
   ],
   "id": "89bcbb01793895f9",
   "outputs": [
    {
     "name": "stdout",
     "output_type": "stream",
     "text": [
      "             transactions  frauds\n",
      "category                         \n",
      "grocery             78246    6582\n",
      "clothing            75988    6454\n",
      "electronics         76554    6318\n",
      "education           70362    6076\n",
      "travel              68127    5735\n",
      "restaurants         67157    5683\n",
      "gaming              63566    5563\n"
     ]
    },
    {
     "data": {
      "text/plain": [
       "<Figure size 1200x500 with 1 Axes>"
      ],
      "image/png": "[encoded data removed]"
     },
     "metadata": {},
     "output_type": "display_data"
    }
   ],
   "execution_count": 65
  },
  {
   "metadata": {
    "ExecuteTime": {
     "end_time": "2025-06-09T20:01:30.549273Z",
     "start_time": "2025-06-09T20:01:30.435661Z"
    }
   },
   "cell_type": "code",
   "source": [
    "fig, ax = plt.subplots(figsize=(12, 5))\n",
    "\n",
    "sns.barplot(\n",
    "    data=category_stats,\n",
    "    ax=ax,\n",
    "    y=\"transactions\",\n",
    "    x=\"category\",\n",
    "    alpha=1\n",
    ")\n",
    "sns.barplot(\n",
    "    data=category_stats,\n",
    "    ax=ax,\n",
    "    y=\"frauds\",\n",
    "    x=\"category\",\n",
    "    alpha=0.3\n",
    ")\n",
    "\n",
    "plt.show()\n",
    "\n",
    "ax.set_title(\"Distribution of frauds by category\")\n",
    "ax.set_xlabel(\"Category\")\n",
    "ax.set_ylabel(\"Count frauds\")\n",
    "\n",
    "fig.tight_layout()\n",
    "plt.show()"
   ],
   "id": "94ece4d7192ab76c",
   "outputs": [
    {
     "data": {
      "text/plain": [
       "<Figure size 1200x500 with 1 Axes>"
      ],
      "image/png": "[encoded data removed]"
     },
     "metadata": {},
     "output_type": "display_data"
    }
   ],
   "execution_count": 66
  },
  {
   "metadata": {},
   "cell_type": "markdown",
   "source": "## Correlation",
   "id": "1135754d2f90e50f"
  },
  {
   "metadata": {
    "ExecuteTime": {
     "end_time": "2025-06-09T20:01:30.761668Z",
     "start_time": "2025-06-09T20:01:30.707284Z"
    }
   },
   "cell_type": "code",
   "source": "df_numeric = df.select_dtypes(include=['number'])",
   "id": "8929270b27f0d97b",
   "outputs": [],
   "execution_count": 67
  },
  {
   "metadata": {
    "ExecuteTime": {
     "end_time": "2025-06-09T20:01:30.975439Z",
     "start_time": "2025-06-09T20:01:30.797546Z"
    }
   },
   "cell_type": "code",
   "source": "corr = df_numeric.corr()",
   "id": "9d6ed976fe45ecc1",
   "outputs": [],
   "execution_count": 68
  },
  {
   "metadata": {
    "ExecuteTime": {
     "end_time": "2025-06-09T20:01:31.343623Z",
     "start_time": "2025-06-09T20:01:31.021762Z"
    }
   },
   "cell_type": "code",
   "source": [
    "fig, ax = plt.subplots(figsize=(14, 8))\n",
    "\n",
    "sns.heatmap(corr,\n",
    "\t\t\tax=ax,\n",
    "\t\t\tannot=True,\n",
    "\t\t\tfmt=\".2f\",\n",
    "\t\t\tsquare=True,\n",
    "\t\t\tlinewidths=.5,\n",
    "\t\t\tcbar_kws={\"shrink\": .8},\n",
    "\t\t\tcmap=\"coolwarm\"\n",
    "\t\t\t)\n",
    "\n",
    "ax.set_title(\"Correlation Heatmap\", fontsize=14)\n",
    "plt.tight_layout()\n",
    "plt.show()"
   ],
   "id": "79ab6278bca3b221",
   "outputs": [
    {
     "data": {
      "text/plain": [
       "<Figure size 1400x800 with 2 Axes>"
      ],
      "image/png": "[encoded data removed]"
     },
     "metadata": {},
     "output_type": "display_data"
    }
   ],
   "execution_count": 69
  },
  {
   "metadata": {},
   "cell_type": "markdown",
   "source": "## Categorical data",
   "id": "d3f1122f93a4fa7"
  },
  {
   "metadata": {
    "ExecuteTime": {
     "end_time": "2025-06-09T20:01:31.409585Z",
     "start_time": "2025-06-09T20:01:31.375436Z"
    }
   },
   "cell_type": "code",
   "source": [
    "fraud_by_user_country = (\n",
    "\tdf.groupby('country_user')\n",
    "\t.agg(transactions=('is_fraud', 'count'), frauds=('is_fraud', 'sum'))\n",
    "\t.sort_values(\"frauds\", ascending=False)\n",
    ")\n",
    "\n"
   ],
   "id": "af8292a22f249e60",
   "outputs": [],
   "execution_count": 70
  },
  {
   "metadata": {
    "ExecuteTime": {
     "end_time": "2025-06-09T20:01:31.572578Z",
     "start_time": "2025-06-09T20:01:31.461338Z"
    }
   },
   "cell_type": "code",
   "source": [
    "fig, ax = plt.subplots(figsize=(12, 5))\n",
    "\n",
    "ax.bar(fraud_by_user_country.index, fraud_by_user_country['frauds'], label=\"Frauds\")\n",
    "ax.bar(fraud_by_user_country.index, fraud_by_user_country['transactions'] - fraud_by_user_country['frauds'], bottom=fraud_by_user_country['frauds'], label=\"Transactions\")\n",
    "\n",
    "plt.show()\n",
    "\n",
    "ax.set_title(\"Distribution of frauds by user Country\")\n",
    "ax.set_xlabel(\"Country\")\n",
    "ax.set_ylabel(\"Count frauds\")\n",
    "\n",
    "fig.tight_layout()\n",
    "plt.show()"
   ],
   "id": "7605c6aaf55af4bf",
   "outputs": [
    {
     "data": {
      "text/plain": [
       "<Figure size 1200x500 with 1 Axes>"
      ],
      "image/png": "[encoded data removed]"
     },
     "metadata": {},
     "output_type": "display_data"
    }
   ],
   "execution_count": 71
  },
  {
   "metadata": {
    "ExecuteTime": {
     "end_time": "2025-06-09T20:01:31.583108Z",
     "start_time": "2025-06-09T20:01:31.580195Z"
    }
   },
   "cell_type": "code",
   "source": "import plotly.express as px",
   "id": "f914f9d6111006f0",
   "outputs": [],
   "execution_count": 72
  },
  {
   "metadata": {
    "ExecuteTime": {
     "end_time": "2025-06-09T20:01:31.682849Z",
     "start_time": "2025-06-09T20:01:31.636692Z"
    }
   },
   "cell_type": "code",
   "source": [
    "fig = px.choropleth(\n",
    "    df.groupby('country_user')['is_fraud'].sum().reset_index(),\n",
    "    locations='country_user',\n",
    "    locationmode='country names',\n",
    "    color='is_fraud',\n",
    "    color_continuous_scale='Reds',\n",
    "    title='Number of frauds by user'\n",
    ")\n",
    "\n",
    "fig.show()"
   ],
   "id": "8e3a6cd41bc70627",
   "outputs": [
    {
     "data": {
      "application/vnd.plotly.v1+json": {
       "data": [
        {
         "coloraxis": "coloraxis",
         "geo": "geo",
         "hovertemplate": "country_user=%{location}<br>is_fraud=%{z}<extra></extra>",
         "locationmode": "country names",
         "locations": [
          "Austria",
          "Belgium",
          "Czech Republic",
          "Denmark",
          "Finland",
          "France",
          "Germany",
          "Ireland",
          "Italy",
          "Netherlands",
          "Poland",
          "Portugal",
          "Spain",
          "Sweden"
         ],
         "name": "",
         "z": {
          "dtype": "i2",
          "bdata": "EgyhC68L5AsvDKkLuwvTC98LvgukCyQMEAyKCw=="
         },
         "type": "choropleth"
        }
       ],
       "layout": {
        "template": {
         "data": {
          "histogram2dcontour": [
           {
            "type": "histogram2dcontour",
            "colorbar": {
             "outlinewidth": 0,
             "ticks": ""
            },
            "colorscale": [
             [
              0.0,
              "#0d0887"
             ],
             [
              0.1111111111111111,
              "#46039f"
             ],
             [
              0.2222222222222222,
              "#7201a8"
             ],
             [
              0.3333333333333333,
              "#9c179e"
             ],
             [
              0.4444444444444444,
              "#bd3786"
             ],
             [
              0.5555555555555556,
              "#d8576b"
             ],
             [
              0.6666666666666666,
              "#ed7953"
             ],
             [
              0.7777777777777778,
              "#fb9f3a"
             ],
             [
              0.8888888888888888,
              "#fdca26"
             ],
             [
              1.0,
              "#f0f921"
             ]
            ]
           }
          ],
          "choropleth": [
           {
            "type": "choropleth",
            "colorbar": {
             "outlinewidth": 0,
             "ticks": ""
            }
           }
          ],
          "histogram2d": [
           {
            "type": "histogram2d",
            "colorbar": {
             "outlinewidth": 0,
             "ticks": ""
            },
            "colorscale": [
             [
              0.0,
              "#0d0887"
             ],
             [
              0.1111111111111111,
              "#46039f"
             ],
             [
              0.2222222222222222,
              "#7201a8"
             ],
             [
              0.3333333333333333,
              "#9c179e"
             ],
             [
              0.4444444444444444,
              "#bd3786"
             ],
             [
              0.5555555555555556,
              "#d8576b"
             ],
             [
              0.6666666666666666,
              "#ed7953"
             ],
             [
              0.7777777777777778,
              "#fb9f3a"
             ],
             [
              0.8888888888888888,
              "#fdca26"
             ],
             [
              1.0,
              "#f0f921"
             ]
            ]
           }
          ],
          "heatmap": [
           {
            "type": "heatmap",
            "colorbar": {
             "outlinewidth": 0,
             "ticks": ""
            },
            "colorscale": [
             [
              0.0,
              "#0d0887"
             ],
             [
              0.1111111111111111,
              "#46039f"
             ],
             [
              0.2222222222222222,
              "#7201a8"
             ],
             [
              0.3333333333333333,
              "#9c179e"
             ],
             [
              0.4444444444444444,
              "#bd3786"
             ],
             [
              0.5555555555555556,
              "#d8576b"
             ],
             [
              0.6666666666666666,
              "#ed7953"
             ],
             [
              0.7777777777777778,
              "#fb9f3a"
             ],
             [
              0.8888888888888888,
              "#fdca26"
             ],
             [
              1.0,
              "#f0f921"
             ]
            ]
           }
          ],
          "contourcarpet": [
           {
            "type": "contourcarpet",
            "colorbar": {
             "outlinewidth": 0,
             "ticks": ""
            }
           }
          ],
          "contour": [
           {
            "type": "contour",
            "colorbar": {
             "outlinewidth": 0,
             "ticks": ""
            },
            "colorscale": [
             [
              0.0,
              "#0d0887"
             ],
             [
              0.1111111111111111,
              "#46039f"
             ],
             [
              0.2222222222222222,
              "#7201a8"
             ],
             [
              0.3333333333333333,
              "#9c179e"
             ],
             [
              0.4444444444444444,
              "#bd3786"
             ],
             [
              0.5555555555555556,
              "#d8576b"
             ],
             [
              0.6666666666666666,
              "#ed7953"
             ],
             [
              0.7777777777777778,
              "#fb9f3a"
             ],
             [
              0.8888888888888888,
              "#fdca26"
             ],
             [
              1.0,
              "#f0f921"
             ]
            ]
           }
          ],
          "surface": [
           {
            "type": "surface",
            "colorbar": {
             "outlinewidth": 0,
             "ticks": ""
            },
            "colorscale": [
             [
              0.0,
              "#0d0887"
             ],
             [
              0.1111111111111111,
              "#46039f"
             ],
             [
              0.2222222222222222,
              "#7201a8"
             ],
             [
              0.3333333333333333,
              "#9c179e"
             ],
             [
              0.4444444444444444,
              "#bd3786"
             ],
             [
              0.5555555555555556,
              "#d8576b"
             ],
             [
              0.6666666666666666,
              "#ed7953"
             ],
             [
              0.7777777777777778,
              "#fb9f3a"
             ],
             [
              0.8888888888888888,
              "#fdca26"
             ],
             [
              1.0,
              "#f0f921"
             ]
            ]
           }
          ],
          "mesh3d": [
           {
            "type": "mesh3d",
            "colorbar": {
             "outlinewidth": 0,
             "ticks": ""
            }
           }
          ],
          "scatter": [
           {
            "marker": {
             "line": {
              "color": "#283442"
             }
            },
            "type": "scatter"
           }
          ],
          "parcoords": [
           {
            "type": "parcoords",
            "line": {
             "colorbar": {
              "outlinewidth": 0,
              "ticks": ""
             }
            }
           }
          ],
          "scatterpolargl": [
           {
            "type": "scatterpolargl",
            "marker": {
             "colorbar": {
              "outlinewidth": 0,
              "ticks": ""
             }
            }
           }
          ],
          "bar": [
           {
            "error_x": {
             "color": "#f2f5fa"
            },
            "error_y": {
             "color": "#f2f5fa"
            },
            "marker": {
             "line": {
              "color": "rgb(17,17,17)",
              "width": 0.5
             },
             "pattern": {
              "fillmode": "overlay",
              "size": 10,
              "solidity": 0.2
             }
            },
            "type": "bar"
           }
          ],
          "scattergeo": [
           {
            "type": "scattergeo",
            "marker": {
             "colorbar": {
              "outlinewidth": 0,
              "ticks": ""
             }
            }
           }
          ],
          "scatterpolar": [
           {
            "type": "scatterpolar",
            "marker": {
             "colorbar": {
              "outlinewidth": 0,
              "ticks": ""
             }
            }
           }
          ],
          "histogram": [
           {
            "marker": {
             "pattern": {
              "fillmode": "overlay",
              "size": 10,
              "solidity": 0.2
             }
            },
            "type": "histogram"
           }
          ],
          "scattergl": [
           {
            "marker": {
             "line": {
              "color": "#283442"
             }
            },
            "type": "scattergl"
           }
          ],
          "scatter3d": [
           {
            "type": "scatter3d",
            "line": {
             "colorbar": {
              "outlinewidth": 0,
              "ticks": ""
             }
            },
            "marker": {
             "colorbar": {
              "outlinewidth": 0,
              "ticks": ""
             }
            }
           }
          ],
          "scattermap": [
           {
            "type": "scattermap",
            "marker": {
             "colorbar": {
              "outlinewidth": 0,
              "ticks": ""
             }
            }
           }
          ],
          "scattermapbox": [
           {
            "type": "scattermapbox",
            "marker": {
             "colorbar": {
              "outlinewidth": 0,
              "ticks": ""
             }
            }
           }
          ],
          "scatterternary": [
           {
            "type": "scatterternary",
            "marker": {
             "colorbar": {
              "outlinewidth": 0,
              "ticks": ""
             }
            }
           }
          ],
          "scattercarpet": [
           {
            "type": "scattercarpet",
            "marker": {
             "colorbar": {
              "outlinewidth": 0,
              "ticks": ""
             }
            }
           }
          ],
          "carpet": [
           {
            "aaxis": {
             "endlinecolor": "#A2B1C6",
             "gridcolor": "#506784",
             "linecolor": "#506784",
             "minorgridcolor": "#506784",
             "startlinecolor": "#A2B1C6"
            },
            "baxis": {
             "endlinecolor": "#A2B1C6",
             "gridcolor": "#506784",
             "linecolor": "#506784",
             "minorgridcolor": "#506784",
             "startlinecolor": "#A2B1C6"
            },
            "type": "carpet"
           }
          ],
          "table": [
           {
            "cells": {
             "fill": {
              "color": "#506784"
             },
             "line": {
              "color": "rgb(17,17,17)"
             }
            },
            "header": {
             "fill": {
              "color": "#2a3f5f"
             },
             "line": {
              "color": "rgb(17,17,17)"
             }
            },
            "type": "table"
           }
          ],
          "barpolar": [
           {
            "marker": {
             "line": {
              "color": "rgb(17,17,17)",
              "width": 0.5
             },
             "pattern": {
              "fillmode": "overlay",
              "size": 10,
              "solidity": 0.2
             }
            },
            "type": "barpolar"
           }
          ],
          "pie": [
           {
            "automargin": true,
            "type": "pie"
           }
          ]
         },
         "layout": {
          "autotypenumbers": "strict",
          "colorway": [
           "#636efa",
           "#EF553B",
           "#00cc96",
           "#ab63fa",
           "#FFA15A",
           "#19d3f3",
           "#FF6692",
           "#B6E880",
           "#FF97FF",
           "#FECB52"
          ],
          "font": {
           "color": "#f2f5fa"
          },
          "hovermode": "closest",
          "hoverlabel": {
           "align": "left"
          },
          "paper_bgcolor": "rgb(17,17,17)",
          "plot_bgcolor": "rgb(17,17,17)",
          "polar": {
           "bgcolor": "rgb(17,17,17)",
           "angularaxis": {
            "gridcolor": "#506784",
            "linecolor": "#506784",
            "ticks": ""
           },
           "radialaxis": {
            "gridcolor": "#506784",
            "linecolor": "#506784",
            "ticks": ""
           }
          },
          "ternary": {
           "bgcolor": "rgb(17,17,17)",
           "aaxis": {
            "gridcolor": "#506784",
            "linecolor": "#506784",
            "ticks": ""
           },
           "baxis": {
            "gridcolor": "#506784",
            "linecolor": "#506784",
            "ticks": ""
           },
           "caxis": {
            "gridcolor": "#506784",
            "linecolor": "#506784",
            "ticks": ""
           }
          },
          "coloraxis": {
           "colorbar": {
            "outlinewidth": 0,
            "ticks": ""
           }
          },
          "colorscale": {
           "sequential": [
            [
             0.0,
             "#0d0887"
            ],
            [
             0.1111111111111111,
             "#46039f"
            ],
            [
             0.2222222222222222,
             "#7201a8"
            ],
            [
             0.3333333333333333,
             "#9c179e"
            ],
            [
             0.4444444444444444,
             "#bd3786"
            ],
            [
             0.5555555555555556,
             "#d8576b"
            ],
            [
             0.6666666666666666,
             "#ed7953"
            ],
            [
             0.7777777777777778,
             "#fb9f3a"
            ],
            [
             0.8888888888888888,
             "#fdca26"
            ],
            [
             1.0,
             "#f0f921"
            ]
           ],
           "sequentialminus": [
            [
             0.0,
             "#0d0887"
            ],
            [
             0.1111111111111111,
             "#46039f"
            ],
            [
             0.2222222222222222,
             "#7201a8"
            ],
            [
             0.3333333333333333,
             "#9c179e"
            ],
            [
             0.4444444444444444,
             "#bd3786"
            ],
            [
             0.5555555555555556,
             "#d8576b"
            ],
            [
             0.6666666666666666,
             "#ed7953"
            ],
            [
             0.7777777777777778,
             "#fb9f3a"
            ],
            [
             0.8888888888888888,
             "#fdca26"
            ],
            [
             1.0,
             "#f0f921"
            ]
           ],
           "diverging": [
            [
             0,
             "#8e0152"
            ],
            [
             0.1,
             "#c51b7d"
            ],
            [
             0.2,
             "#de77ae"
            ],
            [
             0.3,
             "#f1b6da"
            ],
            [
             0.4,
             "#fde0ef"
            ],
            [
             0.5,
             "#f7f7f7"
            ],
            [
             0.6,
             "#e6f5d0"
            ],
            [
             0.7,
             "#b8e186"
            ],
            [
             0.8,
             "#7fbc41"
            ],
            [
             0.9,
             "#4d9221"
            ],
            [
             1,
             "#276419"
            ]
           ]
          },
          "xaxis": {
           "gridcolor": "#283442",
           "linecolor": "#506784",
           "ticks": "",
           "title": {
            "standoff": 15
           },
           "zerolinecolor": "#283442",
           "automargin": true,
           "zerolinewidth": 2
          },
          "yaxis": {
           "gridcolor": "#283442",
           "linecolor": "#506784",
           "ticks": "",
           "title": {
            "standoff": 15
           },
           "zerolinecolor": "#283442",
           "automargin": true,
           "zerolinewidth": 2
          },
          "scene": {
           "xaxis": {
            "backgroundcolor": "rgb(17,17,17)",
            "gridcolor": "#506784",
            "linecolor": "#506784",
            "showbackground": true,
            "ticks": "",
            "zerolinecolor": "#C8D4E3",
            "gridwidth": 2
           },
           "yaxis": {
            "backgroundcolor": "rgb(17,17,17)",
            "gridcolor": "#506784",
            "linecolor": "#506784",
            "showbackground": true,
            "ticks": "",
            "zerolinecolor": "#C8D4E3",
            "gridwidth": 2
           },
           "zaxis": {
            "backgroundcolor": "rgb(17,17,17)",
            "gridcolor": "#506784",
            "linecolor": "#506784",
            "showbackground": true,
            "ticks": "",
            "zerolinecolor": "#C8D4E3",
            "gridwidth": 2
           }
          },
          "shapedefaults": {
           "line": {
            "color": "#f2f5fa"
           }
          },
          "annotationdefaults": {
           "arrowcolor": "#f2f5fa",
           "arrowhead": 0,
           "arrowwidth": 1
          },
          "geo": {
           "bgcolor": "rgb(17,17,17)",
           "landcolor": "rgb(17,17,17)",
           "subunitcolor": "#506784",
           "showland": true,
           "showlakes": true,
           "lakecolor": "rgb(17,17,17)"
          },
          "title": {
           "x": 0.05
          },
          "updatemenudefaults": {
           "bgcolor": "#506784",
           "borderwidth": 0
          },
          "sliderdefaults": {
           "bgcolor": "#C8D4E3",
           "borderwidth": 1,
           "bordercolor": "rgb(17,17,17)",
           "tickwidth": 0
          },
          "mapbox": {
           "style": "dark"
          }
         }
        },
        "geo": {
         "domain": {
          "x": [
           0.0,
           1.0
          ],
          "y": [
           0.0,
           1.0
          ]
         },
         "center": {}
        },
        "coloraxis": {
         "colorbar": {
          "title": {
           "text": "is_fraud"
          }
         },
         "colorscale": [
          [
           0.0,
           "rgb(255,245,240)"
          ],
          [
           0.125,
           "rgb(254,224,210)"
          ],
          [
           0.25,
           "rgb(252,187,161)"
          ],
          [
           0.375,
           "rgb(252,146,114)"
          ],
          [
           0.5,
           "rgb(251,106,74)"
          ],
          [
           0.625,
           "rgb(239,59,44)"
          ],
          [
           0.75,
           "rgb(203,24,29)"
          ],
          [
           0.875,
           "rgb(165,15,21)"
          ],
          [
           1.0,
           "rgb(103,0,13)"
          ]
         ]
        },
        "legend": {
         "tracegroupgap": 0
        },
        "title": {
         "text": "Number of frauds by user"
        }
       },
       "config": {
        "plotlyServerURL": "https://plot.ly"
       }
      }
     },
     "metadata": {},
     "output_type": "display_data"
    }
   ],
   "execution_count": 73
  },
  {
   "metadata": {},
   "cell_type": "markdown",
   "source": "Fraud rate international vs local",
   "id": "71254762faf298db"
  },
  {
   "metadata": {
    "ExecuteTime": {
     "end_time": "2025-06-09T20:01:31.785361Z",
     "start_time": "2025-06-09T20:01:31.714091Z"
    }
   },
   "cell_type": "code",
   "source": [
    "fraud_rate_by_international = df.groupby('is_international')['is_fraud'].mean().sort_values(ascending=False)\n",
    "\n",
    "fig, ax = plt.subplots(figsize=(12, 5))\n",
    "fraud_rate_by_international.plot(kind='bar', ax=ax)\n",
    "\n",
    "ax.set_title(\"frauds rate by international\")\n",
    "ax.set_xlabel(\"International\")\n",
    "ax.set_ylabel(\"Fraud rate\")\n",
    "\n",
    "ax.set_xticks(ticks=(0,1), labels = [\"International\",\"Local\"], rotation=0, ha=\"center\")\n",
    "\n",
    "plt.tight_layout()\n",
    "plt.show()\n",
    "\n",
    "fraud_rate_by_international"
   ],
   "id": "f692591dba9e4621",
   "outputs": [
    {
     "data": {
      "text/plain": [
       "<Figure size 1200x500 with 1 Axes>"
      ],
      "image/png": "[encoded data removed]"
     },
     "metadata": {},
     "output_type": "display_data"
    },
    {
     "data": {
      "text/plain": [
       "is_international\n",
       "1    0.086305\n",
       "0    0.065519\n",
       "Name: is_fraud, dtype: float64"
      ]
     },
     "execution_count": 74,
     "metadata": {},
     "output_type": "execute_result"
    }
   ],
   "execution_count": 74
  },
  {
   "metadata": {
    "ExecuteTime": {
     "end_time": "2025-06-09T20:01:31.880642Z",
     "start_time": "2025-06-09T20:01:31.846276Z"
    }
   },
   "cell_type": "code",
   "source": "df.loc[(df['country_user'] == df[\"country_merchant\"]) & (df['is_international'] == 1)]",
   "id": "cb9ea22403cfcff9",
   "outputs": [
    {
     "data": {
      "text/plain": [
       "Empty DataFrame\n",
       "Columns: [transaction_id, timestamp, user_id, merchant_id, amount, channel, currency, device, location, payment_method, is_international, session_length_seconds, is_first_time_merchant, is_fraud, age, sex, education, primary_source_of_income, sum_of_monthly_installments, sum_of_monthly_expenses, country_user, signup_date, risk_score, category, country_merchant, trust_score, number_of_alerts_last_6_months, avg_transaction_amount, account_age_months, has_fraud_history]\n",
       "Index: []\n",
       "\n",
       "[0 rows x 30 columns]"
      ],
      "text/html": [
       "<div>\n",
       "<style scoped>\n",
       "    .dataframe tbody tr th:only-of-type {\n",
       "        vertical-align: middle;\n",
       "    }\n",
       "\n",
       "    .dataframe tbody tr th {\n",
       "        vertical-align: top;\n",
       "    }\n",
       "\n",
       "    .dataframe thead th {\n",
       "        text-align: right;\n",
       "    }\n",
       "</style>\n",
       "<table border=\"1\" class=\"dataframe\">\n",
       "  <thead>\n",
       "    <tr style=\"text-align: right;\">\n",
       "      <th></th>\n",
       "      <th>transaction_id</th>\n",
       "      <th>timestamp</th>\n",
       "      <th>user_id</th>\n",
       "      <th>merchant_id</th>\n",
       "      <th>amount</th>\n",
       "      <th>channel</th>\n",
       "      <th>currency</th>\n",
       "      <th>device</th>\n",
       "      <th>location</th>\n",
       "      <th>payment_method</th>\n",
       "      <th>...</th>\n",
       "      <th>country_user</th>\n",
       "      <th>signup_date</th>\n",
       "      <th>risk_score</th>\n",
       "      <th>category</th>\n",
       "      <th>country_merchant</th>\n",
       "      <th>trust_score</th>\n",
       "      <th>number_of_alerts_last_6_months</th>\n",
       "      <th>avg_transaction_amount</th>\n",
       "      <th>account_age_months</th>\n",
       "      <th>has_fraud_history</th>\n",
       "    </tr>\n",
       "  </thead>\n",
       "  <tbody>\n",
       "  </tbody>\n",
       "</table>\n",
       "<p>0 rows × 30 columns</p>\n",
       "</div>"
      ]
     },
     "execution_count": 75,
     "metadata": {},
     "output_type": "execute_result"
    }
   ],
   "execution_count": 75
  },
  {
   "metadata": {
    "ExecuteTime": {
     "end_time": "2025-06-09T20:01:32.061063Z",
     "start_time": "2025-06-09T20:01:32.005342Z"
    }
   },
   "cell_type": "code",
   "source": [
    "fig = px.choropleth(\n",
    "\tdf.groupby('country_merchant')['is_fraud'].sum().reset_index(),\n",
    "\tlocations='country_merchant',\n",
    "\tlocationmode=\"country names\",\n",
    "\tcolor=\"is_fraud\",\n",
    "\tcolor_continuous_scale=\"Reds\",\n",
    "\ttitle=\"Number of frauds by merchant\"\n",
    ")\n",
    "\n",
    "fig.show()"
   ],
   "id": "5ca0bab808fc03cf",
   "outputs": [
    {
     "data": {
      "application/vnd.plotly.v1+json": {
       "data": [
        {
         "coloraxis": "coloraxis",
         "geo": "geo",
         "hovertemplate": "country_merchant=%{location}<br>is_fraud=%{z}<extra></extra>",
         "locationmode": "country names",
         "locations": [
          "Austria",
          "Belgium",
          "Czech Republic",
          "Denmark",
          "Finland",
          "France",
          "Germany",
          "Ireland",
          "Italy",
          "Netherlands",
          "Poland",
          "Portugal",
          "Spain",
          "Sweden"
         ],
         "name": "",
         "z": {
          "dtype": "i2",
          "bdata": "pQqmC8oKfwwPDRANZg0VCywMkQi9C1QNAg2tCg=="
         },
         "type": "choropleth"
        }
       ],
       "layout": {
        "template": {
         "data": {
          "histogram2dcontour": [
           {
            "type": "histogram2dcontour",
            "colorbar": {
             "outlinewidth": 0,
             "ticks": ""
            },
            "colorscale": [
             [
              0.0,
              "#0d0887"
             ],
             [
              0.1111111111111111,
              "#46039f"
             ],
             [
              0.2222222222222222,
              "#7201a8"
             ],
             [
              0.3333333333333333,
              "#9c179e"
             ],
             [
              0.4444444444444444,
              "#bd3786"
             ],
             [
              0.5555555555555556,
              "#d8576b"
             ],
             [
              0.6666666666666666,
              "#ed7953"
             ],
             [
              0.7777777777777778,
              "#fb9f3a"
             ],
             [
              0.8888888888888888,
              "#fdca26"
             ],
             [
              1.0,
              "#f0f921"
             ]
            ]
           }
          ],
          "choropleth": [
           {
            "type": "choropleth",
            "colorbar": {
             "outlinewidth": 0,
             "ticks": ""
            }
           }
          ],
          "histogram2d": [
           {
            "type": "histogram2d",
            "colorbar": {
             "outlinewidth": 0,
             "ticks": ""
            },
            "colorscale": [
             [
              0.0,
              "#0d0887"
             ],
             [
              0.1111111111111111,
              "#46039f"
             ],
             [
              0.2222222222222222,
              "#7201a8"
             ],
             [
              0.3333333333333333,
              "#9c179e"
             ],
             [
              0.4444444444444444,
              "#bd3786"
             ],
             [
              0.5555555555555556,
              "#d8576b"
             ],
             [
              0.6666666666666666,
              "#ed7953"
             ],
             [
              0.7777777777777778,
              "#fb9f3a"
             ],
             [
              0.8888888888888888,
              "#fdca26"
             ],
             [
              1.0,
              "#f0f921"
             ]
            ]
           }
          ],
          "heatmap": [
           {
            "type": "heatmap",
            "colorbar": {
             "outlinewidth": 0,
             "ticks": ""
            },
            "colorscale": [
             [
              0.0,
              "#0d0887"
             ],
             [
              0.1111111111111111,
              "#46039f"
             ],
             [
              0.2222222222222222,
              "#7201a8"
             ],
             [
              0.3333333333333333,
              "#9c179e"
             ],
             [
              0.4444444444444444,
              "#bd3786"
             ],
             [
              0.5555555555555556,
              "#d8576b"
             ],
             [
              0.6666666666666666,
              "#ed7953"
             ],
             [
              0.7777777777777778,
              "#fb9f3a"
             ],
             [
              0.8888888888888888,
              "#fdca26"
             ],
             [
              1.0,
              "#f0f921"
             ]
            ]
           }
          ],
          "contourcarpet": [
           {
            "type": "contourcarpet",
            "colorbar": {
             "outlinewidth": 0,
             "ticks": ""
            }
           }
          ],
          "contour": [
           {
            "type": "contour",
            "colorbar": {
             "outlinewidth": 0,
             "ticks": ""
            },
            "colorscale": [
             [
              0.0,
              "#0d0887"
             ],
             [
              0.1111111111111111,
              "#46039f"
             ],
             [
              0.2222222222222222,
              "#7201a8"
             ],
             [
              0.3333333333333333,
              "#9c179e"
             ],
             [
              0.4444444444444444,
              "#bd3786"
             ],
             [
              0.5555555555555556,
              "#d8576b"
             ],
             [
              0.6666666666666666,
              "#ed7953"
             ],
             [
              0.7777777777777778,
              "#fb9f3a"
             ],
             [
              0.8888888888888888,
              "#fdca26"
             ],
             [
              1.0,
              "#f0f921"
             ]
            ]
           }
          ],
          "surface": [
           {
            "type": "surface",
            "colorbar": {
             "outlinewidth": 0,
             "ticks": ""
            },
            "colorscale": [
             [
              0.0,
              "#0d0887"
             ],
             [
              0.1111111111111111,
              "#46039f"
             ],
             [
              0.2222222222222222,
              "#7201a8"
             ],
             [
              0.3333333333333333,
              "#9c179e"
             ],
             [
              0.4444444444444444,
              "#bd3786"
             ],
             [
              0.5555555555555556,
              "#d8576b"
             ],
             [
              0.6666666666666666,
              "#ed7953"
             ],
             [
              0.7777777777777778,
              "#fb9f3a"
             ],
             [
              0.8888888888888888,
              "#fdca26"
             ],
             [
              1.0,
              "#f0f921"
             ]
            ]
           }
          ],
          "mesh3d": [
           {
            "type": "mesh3d",
            "colorbar": {
             "outlinewidth": 0,
             "ticks": ""
            }
           }
          ],
          "scatter": [
           {
            "marker": {
             "line": {
              "color": "#283442"
             }
            },
            "type": "scatter"
           }
          ],
          "parcoords": [
           {
            "type": "parcoords",
            "line": {
             "colorbar": {
              "outlinewidth": 0,
              "ticks": ""
             }
            }
           }
          ],
          "scatterpolargl": [
           {
            "type": "scatterpolargl",
            "marker": {
             "colorbar": {
              "outlinewidth": 0,
              "ticks": ""
             }
            }
           }
          ],
          "bar": [
           {
            "error_x": {
             "color": "#f2f5fa"
            },
            "error_y": {
             "color": "#f2f5fa"
            },
            "marker": {
             "line": {
              "color": "rgb(17,17,17)",
              "width": 0.5
             },
             "pattern": {
              "fillmode": "overlay",
              "size": 10,
              "solidity": 0.2
             }
            },
            "type": "bar"
           }
          ],
          "scattergeo": [
           {
            "type": "scattergeo",
            "marker": {
             "colorbar": {
              "outlinewidth": 0,
              "ticks": ""
             }
            }
           }
          ],
          "scatterpolar": [
           {
            "type": "scatterpolar",
            "marker": {
             "colorbar": {
              "outlinewidth": 0,
              "ticks": ""
             }
            }
           }
          ],
          "histogram": [
           {
            "marker": {
             "pattern": {
              "fillmode": "overlay",
              "size": 10,
              "solidity": 0.2
             }
            },
            "type": "histogram"
           }
          ],
          "scattergl": [
           {
            "marker": {
             "line": {
              "color": "#283442"
             }
            },
            "type": "scattergl"
           }
          ],
          "scatter3d": [
           {
            "type": "scatter3d",
            "line": {
             "colorbar": {
              "outlinewidth": 0,
              "ticks": ""
             }
            },
            "marker": {
             "colorbar": {
              "outlinewidth": 0,
              "ticks": ""
             }
            }
           }
          ],
          "scattermap": [
           {
            "type": "scattermap",
            "marker": {
             "colorbar": {
              "outlinewidth": 0,
              "ticks": ""
             }
            }
           }
          ],
          "scattermapbox": [
           {
            "type": "scattermapbox",
            "marker": {
             "colorbar": {
              "outlinewidth": 0,
              "ticks": ""
             }
            }
           }
          ],
          "scatterternary": [
           {
            "type": "scatterternary",
            "marker": {
             "colorbar": {
              "outlinewidth": 0,
              "ticks": ""
             }
            }
           }
          ],
          "scattercarpet": [
           {
            "type": "scattercarpet",
            "marker": {
             "colorbar": {
              "outlinewidth": 0,
              "ticks": ""
             }
            }
           }
          ],
          "carpet": [
           {
            "aaxis": {
             "endlinecolor": "#A2B1C6",
             "gridcolor": "#506784",
             "linecolor": "#506784",
             "minorgridcolor": "#506784",
             "startlinecolor": "#A2B1C6"
            },
            "baxis": {
             "endlinecolor": "#A2B1C6",
             "gridcolor": "#506784",
             "linecolor": "#506784",
             "minorgridcolor": "#506784",
             "startlinecolor": "#A2B1C6"
            },
            "type": "carpet"
           }
          ],
          "table": [
           {
            "cells": {
             "fill": {
              "color": "#506784"
             },
             "line": {
              "color": "rgb(17,17,17)"
             }
            },
            "header": {
             "fill": {
              "color": "#2a3f5f"
             },
             "line": {
              "color": "rgb(17,17,17)"
             }
            },
            "type": "table"
           }
          ],
          "barpolar": [
           {
            "marker": {
             "line": {
              "color": "rgb(17,17,17)",
              "width": 0.5
             },
             "pattern": {
              "fillmode": "overlay",
              "size": 10,
              "solidity": 0.2
             }
            },
            "type": "barpolar"
           }
          ],
          "pie": [
           {
            "automargin": true,
            "type": "pie"
           }
          ]
         },
         "layout": {
          "autotypenumbers": "strict",
          "colorway": [
           "#636efa",
           "#EF553B",
           "#00cc96",
           "#ab63fa",
           "#FFA15A",
           "#19d3f3",
           "#FF6692",
           "#B6E880",
           "#FF97FF",
           "#FECB52"
          ],
          "font": {
           "color": "#f2f5fa"
          },
          "hovermode": "closest",
          "hoverlabel": {
           "align": "left"
          },
          "paper_bgcolor": "rgb(17,17,17)",
          "plot_bgcolor": "rgb(17,17,17)",
          "polar": {
           "bgcolor": "rgb(17,17,17)",
           "angularaxis": {
            "gridcolor": "#506784",
            "linecolor": "#506784",
            "ticks": ""
           },
           "radialaxis": {
            "gridcolor": "#506784",
            "linecolor": "#506784",
            "ticks": ""
           }
          },
          "ternary": {
           "bgcolor": "rgb(17,17,17)",
           "aaxis": {
            "gridcolor": "#506784",
            "linecolor": "#506784",
            "ticks": ""
           },
           "baxis": {
            "gridcolor": "#506784",
            "linecolor": "#506784",
            "ticks": ""
           },
           "caxis": {
            "gridcolor": "#506784",
            "linecolor": "#506784",
            "ticks": ""
           }
          },
          "coloraxis": {
           "colorbar": {
            "outlinewidth": 0,
            "ticks": ""
           }
          },
          "colorscale": {
           "sequential": [
            [
             0.0,
             "#0d0887"
            ],
            [
             0.1111111111111111,
             "#46039f"
            ],
            [
             0.2222222222222222,
             "#7201a8"
            ],
            [
             0.3333333333333333,
             "#9c179e"
            ],
            [
             0.4444444444444444,
             "#bd3786"
            ],
            [
             0.5555555555555556,
             "#d8576b"
            ],
            [
             0.6666666666666666,
             "#ed7953"
            ],
            [
             0.7777777777777778,
             "#fb9f3a"
            ],
            [
             0.8888888888888888,
             "#fdca26"
            ],
            [
             1.0,
             "#f0f921"
            ]
           ],
           "sequentialminus": [
            [
             0.0,
             "#0d0887"
            ],
            [
             0.1111111111111111,
             "#46039f"
            ],
            [
             0.2222222222222222,
             "#7201a8"
            ],
            [
             0.3333333333333333,
             "#9c179e"
            ],
            [
             0.4444444444444444,
             "#bd3786"
            ],
            [
             0.5555555555555556,
             "#d8576b"
            ],
            [
             0.6666666666666666,
             "#ed7953"
            ],
            [
             0.7777777777777778,
             "#fb9f3a"
            ],
            [
             0.8888888888888888,
             "#fdca26"
            ],
            [
             1.0,
             "#f0f921"
            ]
           ],
           "diverging": [
            [
             0,
             "#8e0152"
            ],
            [
             0.1,
             "#c51b7d"
            ],
            [
             0.2,
             "#de77ae"
            ],
            [
             0.3,
             "#f1b6da"
            ],
            [
             0.4,
             "#fde0ef"
            ],
            [
             0.5,
             "#f7f7f7"
            ],
            [
             0.6,
             "#e6f5d0"
            ],
            [
             0.7,
             "#b8e186"
            ],
            [
             0.8,
             "#7fbc41"
            ],
            [
             0.9,
             "#4d9221"
            ],
            [
             1,
             "#276419"
            ]
           ]
          },
          "xaxis": {
           "gridcolor": "#283442",
           "linecolor": "#506784",
           "ticks": "",
           "title": {
            "standoff": 15
           },
           "zerolinecolor": "#283442",
           "automargin": true,
           "zerolinewidth": 2
          },
          "yaxis": {
           "gridcolor": "#283442",
           "linecolor": "#506784",
           "ticks": "",
           "title": {
            "standoff": 15
           },
           "zerolinecolor": "#283442",
           "automargin": true,
           "zerolinewidth": 2
          },
          "scene": {
           "xaxis": {
            "backgroundcolor": "rgb(17,17,17)",
            "gridcolor": "#506784",
            "linecolor": "#506784",
            "showbackground": true,
            "ticks": "",
            "zerolinecolor": "#C8D4E3",
            "gridwidth": 2
           },
           "yaxis": {
            "backgroundcolor": "rgb(17,17,17)",
            "gridcolor": "#506784",
            "linecolor": "#506784",
            "showbackground": true,
            "ticks": "",
            "zerolinecolor": "#C8D4E3",
            "gridwidth": 2
           },
           "zaxis": {
            "backgroundcolor": "rgb(17,17,17)",
            "gridcolor": "#506784",
            "linecolor": "#506784",
            "showbackground": true,
            "ticks": "",
            "zerolinecolor": "#C8D4E3",
            "gridwidth": 2
           }
          },
          "shapedefaults": {
           "line": {
            "color": "#f2f5fa"
           }
          },
          "annotationdefaults": {
           "arrowcolor": "#f2f5fa",
           "arrowhead": 0,
           "arrowwidth": 1
          },
          "geo": {
           "bgcolor": "rgb(17,17,17)",
           "landcolor": "rgb(17,17,17)",
           "subunitcolor": "#506784",
           "showland": true,
           "showlakes": true,
           "lakecolor": "rgb(17,17,17)"
          },
          "title": {
           "x": 0.05
          },
          "updatemenudefaults": {
           "bgcolor": "#506784",
           "borderwidth": 0
          },
          "sliderdefaults": {
           "bgcolor": "#C8D4E3",
           "borderwidth": 1,
           "bordercolor": "rgb(17,17,17)",
           "tickwidth": 0
          },
          "mapbox": {
           "style": "dark"
          }
         }
        },
        "geo": {
         "domain": {
          "x": [
           0.0,
           1.0
          ],
          "y": [
           0.0,
           1.0
          ]
         },
         "center": {}
        },
        "coloraxis": {
         "colorbar": {
          "title": {
           "text": "is_fraud"
          }
         },
         "colorscale": [
          [
           0.0,
           "rgb(255,245,240)"
          ],
          [
           0.125,
           "rgb(254,224,210)"
          ],
          [
           0.25,
           "rgb(252,187,161)"
          ],
          [
           0.375,
           "rgb(252,146,114)"
          ],
          [
           0.5,
           "rgb(251,106,74)"
          ],
          [
           0.625,
           "rgb(239,59,44)"
          ],
          [
           0.75,
           "rgb(203,24,29)"
          ],
          [
           0.875,
           "rgb(165,15,21)"
          ],
          [
           1.0,
           "rgb(103,0,13)"
          ]
         ]
        },
        "legend": {
         "tracegroupgap": 0
        },
        "title": {
         "text": "Number of frauds by merchant"
        }
       },
       "config": {
        "plotlyServerURL": "https://plot.ly"
       }
      }
     },
     "metadata": {},
     "output_type": "display_data"
    }
   ],
   "execution_count": 76
  },
  {
   "metadata": {
    "ExecuteTime": {
     "end_time": "2025-06-09T20:01:32.389128Z",
     "start_time": "2025-06-09T20:01:32.225490Z"
    }
   },
   "cell_type": "code",
   "source": [
    "fraud_rate_by_international = df.groupby('country_merchant')['is_fraud'].mean().sort_values(ascending=False)\n",
    "\n",
    "fig, ax = plt.subplots(figsize=(12, 5))\n",
    "fraud_rate_by_international.plot(kind='bar', ax=ax)\n",
    "ax.set_title('Fraud rate by country merchant')\n",
    "ax.set_xlabel(\"Country merchant\")\n",
    "ax.set_ylabel('Fraud rate')\n",
    "\n",
    "\n",
    "\n",
    "fig.tight_layout()\n",
    "plt.show()"
   ],
   "id": "8eb51416fed4a67",
   "outputs": [
    {
     "data": {
      "text/plain": [
       "<Figure size 1200x500 with 1 Axes>"
      ],
      "image/png": "[encoded data removed]"
     },
     "metadata": {},
     "output_type": "display_data"
    }
   ],
   "execution_count": 77
  },
  {
   "metadata": {
    "ExecuteTime": {
     "end_time": "2025-06-09T20:01:32.428278Z",
     "start_time": "2025-06-09T20:01:32.422029Z"
    }
   },
   "cell_type": "code",
   "source": "fraud_rate_by_international",
   "id": "55d23eeaabe9a95e",
   "outputs": [
    {
     "data": {
      "text/plain": [
       "country_merchant\n",
       "Netherlands       0.089521\n",
       "Finland           0.087988\n",
       "Germany           0.086811\n",
       "Czech Republic    0.086302\n",
       "France            0.086170\n",
       "Spain             0.085439\n",
       "Ireland           0.084879\n",
       "Denmark           0.084404\n",
       "Belgium           0.084057\n",
       "Sweden            0.083804\n",
       "Poland            0.083248\n",
       "Austria           0.082533\n",
       "Portugal          0.082511\n",
       "Italy             0.081288\n",
       "Name: is_fraud, dtype: float64"
      ]
     },
     "execution_count": 78,
     "metadata": {},
     "output_type": "execute_result"
    }
   ],
   "execution_count": 78
  },
  {
   "metadata": {
    "ExecuteTime": {
     "end_time": "2025-06-09T20:01:32.500526Z",
     "start_time": "2025-06-09T20:01:32.459830Z"
    }
   },
   "cell_type": "code",
   "source": "df['from_to'] = df['country_user'] + df['country_merchant']",
   "id": "f7999d54544ef894",
   "outputs": [],
   "execution_count": 79
  },
  {
   "metadata": {
    "ExecuteTime": {
     "end_time": "2025-06-09T20:01:32.673439Z",
     "start_time": "2025-06-09T20:01:32.567976Z"
    }
   },
   "cell_type": "code",
   "source": "df.loc[df[\"is_international\"] == 1].groupby('from_to')['is_fraud'].mean().sort_values(ascending=False)",
   "id": "b8b0678741fd61f5",
   "outputs": [
    {
     "data": {
      "text/plain": [
       "from_to\n",
       "GermanyNetherlands    0.102744\n",
       "FinlandNetherlands    0.101657\n",
       "FinlandAustria        0.098967\n",
       "PolandFrance          0.098208\n",
       "AustriaSpain          0.097768\n",
       "                        ...   \n",
       "SwedenItaly           0.076726\n",
       "SwedenIreland         0.076639\n",
       "DenmarkSweden         0.076386\n",
       "SpainAustria          0.075221\n",
       "PortugalSweden        0.075127\n",
       "Name: is_fraud, Length: 182, dtype: float64"
      ]
     },
     "execution_count": 80,
     "metadata": {},
     "output_type": "execute_result"
    }
   ],
   "execution_count": 80
  },
  {
   "metadata": {
    "ExecuteTime": {
     "end_time": "2025-06-09T20:01:32.903814Z",
     "start_time": "2025-06-09T20:01:32.740327Z"
    }
   },
   "cell_type": "code",
   "source": [
    "stats = (\n",
    "    df.groupby('sex')\n",
    "    .agg(transactions=('is_fraud', 'sum'), frauds=('is_fraud', 'count'))\n",
    "    .sort_values('frauds', ascending=False)\n",
    ")\n",
    "\n",
    "\n",
    "\n",
    "fig, ax = plt.subplots(figsize=(12, 5))\n",
    "\n",
    "ax.bar(category_stats.index, category_stats['frauds'], label='Frauds')\n",
    "ax.bar(category_stats.index, category_stats['transactions'] - category_stats['frauds'], bottom=category_stats['frauds'])\n",
    "\n",
    "\n",
    "ax.set_title(\"Distribution of frauds by category\")\n",
    "ax.set_xlabel(\"Category\")\n",
    "ax.set_ylabel(\"Count frauds\")\n",
    "# ax.set_ylim(0, 1000)\n",
    "ax.legend()\n",
    "\n",
    "fig.tight_layout()\n",
    "\n",
    "# plt.savefig()\n",
    "plt.show()"
   ],
   "id": "ab55c76ec8742aaa",
   "outputs": [
    {
     "data": {
      "text/plain": [
       "<Figure size 1200x500 with 1 Axes>"
      ],
      "image/png": "[encoded data removed]"
     },
     "metadata": {},
     "output_type": "display_data"
    }
   ],
   "execution_count": 81
  },
  {
   "metadata": {
    "ExecuteTime": {
     "end_time": "2025-06-09T20:01:33.149004Z",
     "start_time": "2025-06-09T20:01:33.145945Z"
    }
   },
   "cell_type": "code",
   "source": "",
   "id": "1c4abbdee41b87f7",
   "outputs": [],
   "execution_count": null
  }
 ],
 "metadata": {
  "kernelspec": {
   "display_name": "Python 3",
   "language": "python",
   "name": "python3"
  },
  "language_info": {
   "codemirror_mode": {
    "name": "ipython",
    "version": 2
   },
   "file_extension": ".py",
   "mimetype": "text/x-python",
   "name": "python",
   "nbconvert_exporter": "python",
   "pygments_lexer": "ipython2",
   "version": "2.7.6"
  }
 },
 "nbformat": 4,
 "nbformat_minor": 5
}
