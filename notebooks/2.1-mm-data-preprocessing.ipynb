{
 "cells": [
  {
   "cell_type": "code",
   "id": "initial_id",
   "metadata": {
    "collapsed": true,
    "ExecuteTime": {
     "end_time": "2025-06-08T12:49:36.405440Z",
     "start_time": "2025-06-08T12:49:36.399117Z"
    }
   },
   "source": [
    "from pathlib import Path\n",
    "\n",
    "import pandas as pd\n",
    "import matplotlib.pyplot as plt\n",
    "import seaborn as sns\n",
    "from narwhals.selectors import categorical"
   ],
   "outputs": [],
   "execution_count": 1
  },
  {
   "metadata": {
    "ExecuteTime": {
     "end_time": "2025-06-08T12:49:36.985631Z",
     "start_time": "2025-06-08T12:49:36.973919Z"
    }
   },
   "cell_type": "code",
   "source": [
    "PROCESSED_DATA = Path(\"../data/processed/\")\n",
    "FIGURES_DATA = Path(\"../reports/figures/\")\n",
    "INTERIM_DATA = Path(\"../data/interim/\")"
   ],
   "id": "680f90227e96642e",
   "outputs": [],
   "execution_count": 2
  },
  {
   "metadata": {
    "ExecuteTime": {
     "end_time": "2025-06-08T12:52:25.421708Z",
     "start_time": "2025-06-08T12:52:24.481280Z"
    }
   },
   "cell_type": "code",
   "source": "df = pd.read_parquet(INTERIM_DATA / \"merge_data.parquet\")",
   "id": "9b8c998e004f86e3",
   "outputs": [],
   "execution_count": 3
  },
  {
   "metadata": {
    "ExecuteTime": {
     "end_time": "2025-06-08T12:52:31.052331Z",
     "start_time": "2025-06-08T12:52:31.032883Z"
    }
   },
   "cell_type": "code",
   "source": "df.columns",
   "id": "944dd7abc89a0d82",
   "outputs": [
    {
     "data": {
      "text/plain": [
       "Index(['transaction_id', 'timestamp', 'user_id', 'merchant_id', 'amount',\n",
       "       'channel', 'currency', 'device', 'location', 'payment_method',\n",
       "       'is_international', 'session_length_seconds', 'is_first_time_merchant',\n",
       "       'is_fraud', 'age', 'sex', 'education', 'primary_source_of_income',\n",
       "       'sum_of_monthly_installments', 'sum_of_monthly_expenses',\n",
       "       'country_user', 'signup_date', 'risk_score', 'category',\n",
       "       'country_merchant', 'trust_score', 'number_of_alerts_last_6_months',\n",
       "       'avg_transaction_amount', 'account_age_months', 'has_fraud_history'],\n",
       "      dtype='object')"
      ]
     },
     "execution_count": 4,
     "metadata": {},
     "output_type": "execute_result"
    }
   ],
   "execution_count": 4
  },
  {
   "metadata": {
    "ExecuteTime": {
     "end_time": "2025-06-08T12:53:53.229844Z",
     "start_time": "2025-06-08T12:53:52.872722Z"
    }
   },
   "cell_type": "code",
   "source": "df.drop(columns=[\"currency\", \"user_id\", \"merchant_id\", \"location\"], inplace=True)",
   "id": "c1a6a2f541738768",
   "outputs": [],
   "execution_count": 5
  },
  {
   "metadata": {
    "ExecuteTime": {
     "end_time": "2025-06-08T12:53:59.221778Z",
     "start_time": "2025-06-08T12:53:59.200394Z"
    }
   },
   "cell_type": "code",
   "source": "df.columns",
   "id": "f69a7a6d4ac14a64",
   "outputs": [
    {
     "data": {
      "text/plain": [
       "Index(['transaction_id', 'timestamp', 'amount', 'channel', 'device',\n",
       "       'payment_method', 'is_international', 'session_length_seconds',\n",
       "       'is_first_time_merchant', 'is_fraud', 'age', 'sex', 'education',\n",
       "       'primary_source_of_income', 'sum_of_monthly_installments',\n",
       "       'sum_of_monthly_expenses', 'country_user', 'signup_date', 'risk_score',\n",
       "       'category', 'country_merchant', 'trust_score',\n",
       "       'number_of_alerts_last_6_months', 'avg_transaction_amount',\n",
       "       'account_age_months', 'has_fraud_history'],\n",
       "      dtype='object')"
      ]
     },
     "execution_count": 6,
     "metadata": {},
     "output_type": "execute_result"
    }
   ],
   "execution_count": 6
  },
  {
   "metadata": {
    "ExecuteTime": {
     "end_time": "2025-06-08T12:54:05.365983Z",
     "start_time": "2025-06-08T12:54:04.998425Z"
    }
   },
   "cell_type": "code",
   "source": "df.info()",
   "id": "81b36019449b1da",
   "outputs": [
    {
     "name": "stdout",
     "output_type": "stream",
     "text": [
      "<class 'pandas.core.frame.DataFrame'>\n",
      "RangeIndex: 500000 entries, 0 to 499999\n",
      "Data columns (total 26 columns):\n",
      " #   Column                          Non-Null Count   Dtype         \n",
      "---  ------                          --------------   -----         \n",
      " 0   transaction_id                  500000 non-null  object        \n",
      " 1   timestamp                       500000 non-null  datetime64[ns]\n",
      " 2   amount                          500000 non-null  float64       \n",
      " 3   channel                         500000 non-null  object        \n",
      " 4   device                          500000 non-null  object        \n",
      " 5   payment_method                  500000 non-null  object        \n",
      " 6   is_international                500000 non-null  int64         \n",
      " 7   session_length_seconds          500000 non-null  int64         \n",
      " 8   is_first_time_merchant          500000 non-null  int64         \n",
      " 9   is_fraud                        500000 non-null  int64         \n",
      " 10  age                             500000 non-null  int64         \n",
      " 11  sex                             500000 non-null  object        \n",
      " 12  education                       403434 non-null  object        \n",
      " 13  primary_source_of_income        500000 non-null  object        \n",
      " 14  sum_of_monthly_installments     500000 non-null  float64       \n",
      " 15  sum_of_monthly_expenses         500000 non-null  float64       \n",
      " 16  country_user                    500000 non-null  object        \n",
      " 17  signup_date                     500000 non-null  datetime64[ns]\n",
      " 18  risk_score                      500000 non-null  float64       \n",
      " 19  category                        500000 non-null  object        \n",
      " 20  country_merchant                500000 non-null  object        \n",
      " 21  trust_score                     500000 non-null  float64       \n",
      " 22  number_of_alerts_last_6_months  500000 non-null  int64         \n",
      " 23  avg_transaction_amount          500000 non-null  float64       \n",
      " 24  account_age_months              500000 non-null  int64         \n",
      " 25  has_fraud_history               500000 non-null  int64         \n",
      "dtypes: datetime64[ns](2), float64(6), int64(8), object(10)\n",
      "memory usage: 99.2+ MB\n"
     ]
    }
   ],
   "execution_count": 7
  },
  {
   "metadata": {
    "ExecuteTime": {
     "end_time": "2025-06-08T12:55:49.023424Z",
     "start_time": "2025-06-08T12:55:48.913194Z"
    }
   },
   "cell_type": "code",
   "source": "df['education'] = df['education'].fillna('Missing')",
   "id": "b499ce8895ea8510",
   "outputs": [],
   "execution_count": 9
  },
  {
   "metadata": {
    "ExecuteTime": {
     "end_time": "2025-06-08T12:56:13.597956Z",
     "start_time": "2025-06-08T12:56:13.457550Z"
    }
   },
   "cell_type": "code",
   "source": "df.drop(columns=[\"transaction_id\"], inplace=True)",
   "id": "8e3df26e01d1618c",
   "outputs": [],
   "execution_count": 10
  },
  {
   "metadata": {
    "ExecuteTime": {
     "end_time": "2025-06-08T13:02:48.385260Z",
     "start_time": "2025-06-08T13:02:48.328453Z"
    }
   },
   "cell_type": "code",
   "source": "pd.get_dummies(df['education'], dtype=int)",
   "id": "b7e7e4b80a28b9fd",
   "outputs": [
    {
     "data": {
      "text/plain": [
       "        Bachelor  High School  Master  Missing  PhD\n",
       "0              1            0       0        0    0\n",
       "1              0            0       0        0    1\n",
       "2              1            0       0        0    0\n",
       "3              0            0       1        0    0\n",
       "4              0            0       0        0    1\n",
       "...          ...          ...     ...      ...  ...\n",
       "499995         1            0       0        0    0\n",
       "499996         0            1       0        0    0\n",
       "499997         1            0       0        0    0\n",
       "499998         0            1       0        0    0\n",
       "499999         0            0       0        1    0\n",
       "\n",
       "[500000 rows x 5 columns]"
      ],
      "text/html": [
       "<div>\n",
       "<style scoped>\n",
       "    .dataframe tbody tr th:only-of-type {\n",
       "        vertical-align: middle;\n",
       "    }\n",
       "\n",
       "    .dataframe tbody tr th {\n",
       "        vertical-align: top;\n",
       "    }\n",
       "\n",
       "    .dataframe thead th {\n",
       "        text-align: right;\n",
       "    }\n",
       "</style>\n",
       "<table border=\"1\" class=\"dataframe\">\n",
       "  <thead>\n",
       "    <tr style=\"text-align: right;\">\n",
       "      <th></th>\n",
       "      <th>Bachelor</th>\n",
       "      <th>High School</th>\n",
       "      <th>Master</th>\n",
       "      <th>Missing</th>\n",
       "      <th>PhD</th>\n",
       "    </tr>\n",
       "  </thead>\n",
       "  <tbody>\n",
       "    <tr>\n",
       "      <th>0</th>\n",
       "      <td>1</td>\n",
       "      <td>0</td>\n",
       "      <td>0</td>\n",
       "      <td>0</td>\n",
       "      <td>0</td>\n",
       "    </tr>\n",
       "    <tr>\n",
       "      <th>1</th>\n",
       "      <td>0</td>\n",
       "      <td>0</td>\n",
       "      <td>0</td>\n",
       "      <td>0</td>\n",
       "      <td>1</td>\n",
       "    </tr>\n",
       "    <tr>\n",
       "      <th>2</th>\n",
       "      <td>1</td>\n",
       "      <td>0</td>\n",
       "      <td>0</td>\n",
       "      <td>0</td>\n",
       "      <td>0</td>\n",
       "    </tr>\n",
       "    <tr>\n",
       "      <th>3</th>\n",
       "      <td>0</td>\n",
       "      <td>0</td>\n",
       "      <td>1</td>\n",
       "      <td>0</td>\n",
       "      <td>0</td>\n",
       "    </tr>\n",
       "    <tr>\n",
       "      <th>4</th>\n",
       "      <td>0</td>\n",
       "      <td>0</td>\n",
       "      <td>0</td>\n",
       "      <td>0</td>\n",
       "      <td>1</td>\n",
       "    </tr>\n",
       "    <tr>\n",
       "      <th>...</th>\n",
       "      <td>...</td>\n",
       "      <td>...</td>\n",
       "      <td>...</td>\n",
       "      <td>...</td>\n",
       "      <td>...</td>\n",
       "    </tr>\n",
       "    <tr>\n",
       "      <th>499995</th>\n",
       "      <td>1</td>\n",
       "      <td>0</td>\n",
       "      <td>0</td>\n",
       "      <td>0</td>\n",
       "      <td>0</td>\n",
       "    </tr>\n",
       "    <tr>\n",
       "      <th>499996</th>\n",
       "      <td>0</td>\n",
       "      <td>1</td>\n",
       "      <td>0</td>\n",
       "      <td>0</td>\n",
       "      <td>0</td>\n",
       "    </tr>\n",
       "    <tr>\n",
       "      <th>499997</th>\n",
       "      <td>1</td>\n",
       "      <td>0</td>\n",
       "      <td>0</td>\n",
       "      <td>0</td>\n",
       "      <td>0</td>\n",
       "    </tr>\n",
       "    <tr>\n",
       "      <th>499998</th>\n",
       "      <td>0</td>\n",
       "      <td>1</td>\n",
       "      <td>0</td>\n",
       "      <td>0</td>\n",
       "      <td>0</td>\n",
       "    </tr>\n",
       "    <tr>\n",
       "      <th>499999</th>\n",
       "      <td>0</td>\n",
       "      <td>0</td>\n",
       "      <td>0</td>\n",
       "      <td>1</td>\n",
       "      <td>0</td>\n",
       "    </tr>\n",
       "  </tbody>\n",
       "</table>\n",
       "<p>500000 rows × 5 columns</p>\n",
       "</div>"
      ]
     },
     "execution_count": 13,
     "metadata": {},
     "output_type": "execute_result"
    }
   ],
   "execution_count": 13
  },
  {
   "metadata": {
    "ExecuteTime": {
     "end_time": "2025-06-08T13:08:18.459098Z",
     "start_time": "2025-06-08T13:08:18.449554Z"
    }
   },
   "cell_type": "code",
   "source": "categorical_cols = [\"channel\", \"device\", \"payment_method\", \"sex\", \"education\", \"primary_source_of_income\", \"category\"]",
   "id": "e7d9781370fa3c29",
   "outputs": [],
   "execution_count": 16
  },
  {
   "metadata": {
    "ExecuteTime": {
     "end_time": "2025-06-08T13:10:00.823994Z",
     "start_time": "2025-06-08T13:09:59.911535Z"
    }
   },
   "cell_type": "code",
   "source": "df_encoded = pd.get_dummies(df, columns=categorical_cols, dtype=int, drop_first=True)",
   "id": "db4ae9584d6805e",
   "outputs": [],
   "execution_count": 28
  },
  {
   "metadata": {
    "ExecuteTime": {
     "end_time": "2025-06-08T13:10:01.643749Z",
     "start_time": "2025-06-08T13:10:01.634445Z"
    }
   },
   "cell_type": "code",
   "source": "df_encoded.shape",
   "id": "5e2efaf76ee11775",
   "outputs": [
    {
     "data": {
      "text/plain": [
       "(500000, 42)"
      ]
     },
     "execution_count": 29,
     "metadata": {},
     "output_type": "execute_result"
    }
   ],
   "execution_count": 29
  },
  {
   "metadata": {
    "ExecuteTime": {
     "end_time": "2025-06-08T13:21:26.236266Z",
     "start_time": "2025-06-08T13:21:26.222751Z"
    }
   },
   "cell_type": "code",
   "source": "df.columns",
   "id": "bdc401f59f1477bd",
   "outputs": [
    {
     "data": {
      "text/plain": [
       "Index(['timestamp', 'amount', 'channel', 'device', 'payment_method',\n",
       "       'is_international', 'session_length_seconds', 'is_first_time_merchant',\n",
       "       'is_fraud', 'age', 'sex', 'education', 'primary_source_of_income',\n",
       "       'sum_of_monthly_installments', 'sum_of_monthly_expenses',\n",
       "       'country_user', 'signup_date', 'risk_score', 'category',\n",
       "       'country_merchant', 'trust_score', 'number_of_alerts_last_6_months',\n",
       "       'avg_transaction_amount', 'account_age_months', 'has_fraud_history'],\n",
       "      dtype='object')"
      ]
     },
     "execution_count": 31,
     "metadata": {},
     "output_type": "execute_result"
    }
   ],
   "execution_count": 31
  },
  {
   "metadata": {
    "ExecuteTime": {
     "end_time": "2025-06-08T13:19:16.158133Z",
     "start_time": "2025-06-08T13:19:12.687464Z"
    }
   },
   "cell_type": "code",
   "source": "from sklearn.preprocessing import StandardScaler",
   "id": "e3da9d33c3facc53",
   "outputs": [],
   "execution_count": 30
  },
  {
   "metadata": {
    "ExecuteTime": {
     "end_time": "2025-06-08T13:22:43.515667Z",
     "start_time": "2025-06-08T13:22:43.508181Z"
    }
   },
   "cell_type": "code",
   "source": [
    "numerical_cols = [\"amount\", \"session_length_seconds\", \"age\", \"sum_of_monthly_installments\", \"risk_score\", \"trust_score\",\n",
    "\t\t\t\t  \"number_of_alerts_last_6_months\", \"avg_transaction_amount\", \"account_age_months\"]"
   ],
   "id": "6b85d2a21896066a",
   "outputs": [],
   "execution_count": 32
  },
  {
   "metadata": {
    "ExecuteTime": {
     "end_time": "2025-06-08T13:22:47.950127Z",
     "start_time": "2025-06-08T13:22:47.940365Z"
    }
   },
   "cell_type": "code",
   "source": "scaler = StandardScaler()",
   "id": "cdf27ac60711b290",
   "outputs": [],
   "execution_count": 33
  },
  {
   "metadata": {
    "ExecuteTime": {
     "end_time": "2025-06-08T13:24:41.566370Z",
     "start_time": "2025-06-08T13:24:41.463998Z"
    }
   },
   "cell_type": "code",
   "source": "df_encoded[numerical_cols] = scaler.fit_transform(df_encoded[numerical_cols])",
   "id": "530119a655f0afa2",
   "outputs": [],
   "execution_count": 35
  },
  {
   "metadata": {
    "ExecuteTime": {
     "end_time": "2025-06-08T13:26:51.153304Z",
     "start_time": "2025-06-08T13:26:50.123626Z"
    }
   },
   "cell_type": "code",
   "source": "df_encoded.describe()",
   "id": "96c488140e6c1889",
   "outputs": [
    {
     "data": {
      "text/plain": [
       "                           timestamp        amount  is_international  \\\n",
       "count                         500000  5.000000e+05     500000.000000   \n",
       "mean   2022-12-31 16:45:04.497720576  8.754597e-17          0.928662   \n",
       "min              2022-01-01 00:06:00 -9.985008e-01          0.000000   \n",
       "25%              2022-07-01 11:03:45 -7.110468e-01          1.000000   \n",
       "50%              2022-12-31 20:08:30 -3.071710e-01          1.000000   \n",
       "75%              2023-07-02 08:45:15  3.852091e-01          1.000000   \n",
       "max              2023-12-31 23:57:00  1.330139e+01          1.000000   \n",
       "std                              NaN  1.000001e+00          0.257389   \n",
       "\n",
       "       session_length_seconds  is_first_time_merchant       is_fraud  \\\n",
       "count            5.000000e+05           500000.000000  500000.000000   \n",
       "mean             1.131397e-16                0.501248       0.084822   \n",
       "min             -1.730265e+00                0.000000       0.000000   \n",
       "25%             -8.636345e-01                0.000000       0.000000   \n",
       "50%             -2.919869e-03                1.000000       0.000000   \n",
       "75%              8.637103e-01                1.000000       0.000000   \n",
       "max              1.730340e+00                1.000000       1.000000   \n",
       "std              1.000001e+00                0.499999       0.278617   \n",
       "\n",
       "                age  sum_of_monthly_installments  sum_of_monthly_expenses  \\\n",
       "count  5.000000e+05                 5.000000e+05            500000.000000   \n",
       "mean  -1.078746e-16                -3.996092e-17              1182.346649   \n",
       "min   -1.691432e+00                -9.928511e-01                 0.040000   \n",
       "25%   -8.442505e-01                -7.048258e-01               353.660000   \n",
       "50%    2.930763e-03                -3.097876e-01               825.190000   \n",
       "75%    8.501120e-01                 3.843131e-01              1650.440000   \n",
       "max    1.697293e+00                 9.437243e+00             10994.330000   \n",
       "std    1.000001e+00                 1.000001e+00              1168.967960   \n",
       "\n",
       "                         signup_date  ...  \\\n",
       "count                         500000  ...   \n",
       "mean   2022-10-06 13:27:43.660799744  ...   \n",
       "min              2020-04-21 00:00:00  ...   \n",
       "25%              2021-07-09 00:00:00  ...   \n",
       "50%              2022-10-08 00:00:00  ...   \n",
       "75%              2023-12-29 00:00:00  ...   \n",
       "max              2025-03-22 00:00:00  ...   \n",
       "std                              NaN  ...   \n",
       "\n",
       "       primary_source_of_income_Retirement  primary_source_of_income_Savings  \\\n",
       "count                        500000.000000                     500000.000000   \n",
       "mean                              0.165126                          0.164698   \n",
       "min                               0.000000                          0.000000   \n",
       "25%                               0.000000                          0.000000   \n",
       "50%                               0.000000                          0.000000   \n",
       "75%                               0.000000                          0.000000   \n",
       "max                               1.000000                          1.000000   \n",
       "std                               0.371295                          0.370908   \n",
       "\n",
       "       primary_source_of_income_Student Aid  \\\n",
       "count                         500000.000000   \n",
       "mean                               0.162216   \n",
       "min                                0.000000   \n",
       "25%                                0.000000   \n",
       "50%                                0.000000   \n",
       "75%                                0.000000   \n",
       "max                                1.000000   \n",
       "std                                0.368649   \n",
       "\n",
       "       primary_source_of_income_Unemployment  category_education  \\\n",
       "count                          500000.000000       500000.000000   \n",
       "mean                                0.173432            0.140724   \n",
       "min                                 0.000000            0.000000   \n",
       "25%                                 0.000000            0.000000   \n",
       "50%                                 0.000000            0.000000   \n",
       "75%                                 0.000000            0.000000   \n",
       "max                                 1.000000            1.000000   \n",
       "std                                 0.378621            0.347737   \n",
       "\n",
       "       category_electronics  category_gaming  category_grocery  \\\n",
       "count         500000.000000    500000.000000     500000.000000   \n",
       "mean               0.153108         0.127132          0.156492   \n",
       "min                0.000000         0.000000          0.000000   \n",
       "25%                0.000000         0.000000          0.000000   \n",
       "50%                0.000000         0.000000          0.000000   \n",
       "75%                0.000000         0.000000          0.000000   \n",
       "max                1.000000         1.000000          1.000000   \n",
       "std                0.360092         0.333121          0.363322   \n",
       "\n",
       "       category_restaurants  category_travel  \n",
       "count         500000.000000    500000.000000  \n",
       "mean               0.134314         0.136254  \n",
       "min                0.000000         0.000000  \n",
       "25%                0.000000         0.000000  \n",
       "50%                0.000000         0.000000  \n",
       "75%                0.000000         0.000000  \n",
       "max                1.000000         1.000000  \n",
       "std                0.340990         0.343058  \n",
       "\n",
       "[8 rows x 40 columns]"
      ],
      "text/html": [
       "<div>\n",
       "<style scoped>\n",
       "    .dataframe tbody tr th:only-of-type {\n",
       "        vertical-align: middle;\n",
       "    }\n",
       "\n",
       "    .dataframe tbody tr th {\n",
       "        vertical-align: top;\n",
       "    }\n",
       "\n",
       "    .dataframe thead th {\n",
       "        text-align: right;\n",
       "    }\n",
       "</style>\n",
       "<table border=\"1\" class=\"dataframe\">\n",
       "  <thead>\n",
       "    <tr style=\"text-align: right;\">\n",
       "      <th></th>\n",
       "      <th>timestamp</th>\n",
       "      <th>amount</th>\n",
       "      <th>is_international</th>\n",
       "      <th>session_length_seconds</th>\n",
       "      <th>is_first_time_merchant</th>\n",
       "      <th>is_fraud</th>\n",
       "      <th>age</th>\n",
       "      <th>sum_of_monthly_installments</th>\n",
       "      <th>sum_of_monthly_expenses</th>\n",
       "      <th>signup_date</th>\n",
       "      <th>...</th>\n",
       "      <th>primary_source_of_income_Retirement</th>\n",
       "      <th>primary_source_of_income_Savings</th>\n",
       "      <th>primary_source_of_income_Student Aid</th>\n",
       "      <th>primary_source_of_income_Unemployment</th>\n",
       "      <th>category_education</th>\n",
       "      <th>category_electronics</th>\n",
       "      <th>category_gaming</th>\n",
       "      <th>category_grocery</th>\n",
       "      <th>category_restaurants</th>\n",
       "      <th>category_travel</th>\n",
       "    </tr>\n",
       "  </thead>\n",
       "  <tbody>\n",
       "    <tr>\n",
       "      <th>count</th>\n",
       "      <td>500000</td>\n",
       "      <td>5.000000e+05</td>\n",
       "      <td>500000.000000</td>\n",
       "      <td>5.000000e+05</td>\n",
       "      <td>500000.000000</td>\n",
       "      <td>500000.000000</td>\n",
       "      <td>5.000000e+05</td>\n",
       "      <td>5.000000e+05</td>\n",
       "      <td>500000.000000</td>\n",
       "      <td>500000</td>\n",
       "      <td>...</td>\n",
       "      <td>500000.000000</td>\n",
       "      <td>500000.000000</td>\n",
       "      <td>500000.000000</td>\n",
       "      <td>500000.000000</td>\n",
       "      <td>500000.000000</td>\n",
       "      <td>500000.000000</td>\n",
       "      <td>500000.000000</td>\n",
       "      <td>500000.000000</td>\n",
       "      <td>500000.000000</td>\n",
       "      <td>500000.000000</td>\n",
       "    </tr>\n",
       "    <tr>\n",
       "      <th>mean</th>\n",
       "      <td>2022-12-31 16:45:04.497720576</td>\n",
       "      <td>8.754597e-17</td>\n",
       "      <td>0.928662</td>\n",
       "      <td>1.131397e-16</td>\n",
       "      <td>0.501248</td>\n",
       "      <td>0.084822</td>\n",
       "      <td>-1.078746e-16</td>\n",
       "      <td>-3.996092e-17</td>\n",
       "      <td>1182.346649</td>\n",
       "      <td>2022-10-06 13:27:43.660799744</td>\n",
       "      <td>...</td>\n",
       "      <td>0.165126</td>\n",
       "      <td>0.164698</td>\n",
       "      <td>0.162216</td>\n",
       "      <td>0.173432</td>\n",
       "      <td>0.140724</td>\n",
       "      <td>0.153108</td>\n",
       "      <td>0.127132</td>\n",
       "      <td>0.156492</td>\n",
       "      <td>0.134314</td>\n",
       "      <td>0.136254</td>\n",
       "    </tr>\n",
       "    <tr>\n",
       "      <th>min</th>\n",
       "      <td>2022-01-01 00:06:00</td>\n",
       "      <td>-9.985008e-01</td>\n",
       "      <td>0.000000</td>\n",
       "      <td>-1.730265e+00</td>\n",
       "      <td>0.000000</td>\n",
       "      <td>0.000000</td>\n",
       "      <td>-1.691432e+00</td>\n",
       "      <td>-9.928511e-01</td>\n",
       "      <td>0.040000</td>\n",
       "      <td>2020-04-21 00:00:00</td>\n",
       "      <td>...</td>\n",
       "      <td>0.000000</td>\n",
       "      <td>0.000000</td>\n",
       "      <td>0.000000</td>\n",
       "      <td>0.000000</td>\n",
       "      <td>0.000000</td>\n",
       "      <td>0.000000</td>\n",
       "      <td>0.000000</td>\n",
       "      <td>0.000000</td>\n",
       "      <td>0.000000</td>\n",
       "      <td>0.000000</td>\n",
       "    </tr>\n",
       "    <tr>\n",
       "      <th>25%</th>\n",
       "      <td>2022-07-01 11:03:45</td>\n",
       "      <td>-7.110468e-01</td>\n",
       "      <td>1.000000</td>\n",
       "      <td>-8.636345e-01</td>\n",
       "      <td>0.000000</td>\n",
       "      <td>0.000000</td>\n",
       "      <td>-8.442505e-01</td>\n",
       "      <td>-7.048258e-01</td>\n",
       "      <td>353.660000</td>\n",
       "      <td>2021-07-09 00:00:00</td>\n",
       "      <td>...</td>\n",
       "      <td>0.000000</td>\n",
       "      <td>0.000000</td>\n",
       "      <td>0.000000</td>\n",
       "      <td>0.000000</td>\n",
       "      <td>0.000000</td>\n",
       "      <td>0.000000</td>\n",
       "      <td>0.000000</td>\n",
       "      <td>0.000000</td>\n",
       "      <td>0.000000</td>\n",
       "      <td>0.000000</td>\n",
       "    </tr>\n",
       "    <tr>\n",
       "      <th>50%</th>\n",
       "      <td>2022-12-31 20:08:30</td>\n",
       "      <td>-3.071710e-01</td>\n",
       "      <td>1.000000</td>\n",
       "      <td>-2.919869e-03</td>\n",
       "      <td>1.000000</td>\n",
       "      <td>0.000000</td>\n",
       "      <td>2.930763e-03</td>\n",
       "      <td>-3.097876e-01</td>\n",
       "      <td>825.190000</td>\n",
       "      <td>2022-10-08 00:00:00</td>\n",
       "      <td>...</td>\n",
       "      <td>0.000000</td>\n",
       "      <td>0.000000</td>\n",
       "      <td>0.000000</td>\n",
       "      <td>0.000000</td>\n",
       "      <td>0.000000</td>\n",
       "      <td>0.000000</td>\n",
       "      <td>0.000000</td>\n",
       "      <td>0.000000</td>\n",
       "      <td>0.000000</td>\n",
       "      <td>0.000000</td>\n",
       "    </tr>\n",
       "    <tr>\n",
       "      <th>75%</th>\n",
       "      <td>2023-07-02 08:45:15</td>\n",
       "      <td>3.852091e-01</td>\n",
       "      <td>1.000000</td>\n",
       "      <td>8.637103e-01</td>\n",
       "      <td>1.000000</td>\n",
       "      <td>0.000000</td>\n",
       "      <td>8.501120e-01</td>\n",
       "      <td>3.843131e-01</td>\n",
       "      <td>1650.440000</td>\n",
       "      <td>2023-12-29 00:00:00</td>\n",
       "      <td>...</td>\n",
       "      <td>0.000000</td>\n",
       "      <td>0.000000</td>\n",
       "      <td>0.000000</td>\n",
       "      <td>0.000000</td>\n",
       "      <td>0.000000</td>\n",
       "      <td>0.000000</td>\n",
       "      <td>0.000000</td>\n",
       "      <td>0.000000</td>\n",
       "      <td>0.000000</td>\n",
       "      <td>0.000000</td>\n",
       "    </tr>\n",
       "    <tr>\n",
       "      <th>max</th>\n",
       "      <td>2023-12-31 23:57:00</td>\n",
       "      <td>1.330139e+01</td>\n",
       "      <td>1.000000</td>\n",
       "      <td>1.730340e+00</td>\n",
       "      <td>1.000000</td>\n",
       "      <td>1.000000</td>\n",
       "      <td>1.697293e+00</td>\n",
       "      <td>9.437243e+00</td>\n",
       "      <td>10994.330000</td>\n",
       "      <td>2025-03-22 00:00:00</td>\n",
       "      <td>...</td>\n",
       "      <td>1.000000</td>\n",
       "      <td>1.000000</td>\n",
       "      <td>1.000000</td>\n",
       "      <td>1.000000</td>\n",
       "      <td>1.000000</td>\n",
       "      <td>1.000000</td>\n",
       "      <td>1.000000</td>\n",
       "      <td>1.000000</td>\n",
       "      <td>1.000000</td>\n",
       "      <td>1.000000</td>\n",
       "    </tr>\n",
       "    <tr>\n",
       "      <th>std</th>\n",
       "      <td>NaN</td>\n",
       "      <td>1.000001e+00</td>\n",
       "      <td>0.257389</td>\n",
       "      <td>1.000001e+00</td>\n",
       "      <td>0.499999</td>\n",
       "      <td>0.278617</td>\n",
       "      <td>1.000001e+00</td>\n",
       "      <td>1.000001e+00</td>\n",
       "      <td>1168.967960</td>\n",
       "      <td>NaN</td>\n",
       "      <td>...</td>\n",
       "      <td>0.371295</td>\n",
       "      <td>0.370908</td>\n",
       "      <td>0.368649</td>\n",
       "      <td>0.378621</td>\n",
       "      <td>0.347737</td>\n",
       "      <td>0.360092</td>\n",
       "      <td>0.333121</td>\n",
       "      <td>0.363322</td>\n",
       "      <td>0.340990</td>\n",
       "      <td>0.343058</td>\n",
       "    </tr>\n",
       "  </tbody>\n",
       "</table>\n",
       "<p>8 rows × 40 columns</p>\n",
       "</div>"
      ]
     },
     "execution_count": 37,
     "metadata": {},
     "output_type": "execute_result"
    }
   ],
   "execution_count": 37
  },
  {
   "metadata": {
    "ExecuteTime": {
     "end_time": "2025-06-08T13:29:03.179715Z",
     "start_time": "2025-06-08T13:29:01.690157Z"
    }
   },
   "cell_type": "code",
   "source": "df_encoded.to_parquet(INTERIM_DATA / \"encoded_data.parquet\")",
   "id": "b8eed9b5730cfdb",
   "outputs": [],
   "execution_count": 38
  },
  {
   "metadata": {
    "ExecuteTime": {
     "end_time": "2025-06-08T13:29:18.825220Z",
     "start_time": "2025-06-08T13:29:18.819517Z"
    }
   },
   "cell_type": "code",
   "source": "df_encoded.shape",
   "id": "acc973c326f78fe0",
   "outputs": [
    {
     "data": {
      "text/plain": [
       "(500000, 42)"
      ]
     },
     "execution_count": 39,
     "metadata": {},
     "output_type": "execute_result"
    }
   ],
   "execution_count": 39
  }
 ],
 "metadata": {
  "kernelspec": {
   "display_name": "Python 3",
   "language": "python",
   "name": "python3"
  },
  "language_info": {
   "codemirror_mode": {
    "name": "ipython",
    "version": 2
   },
   "file_extension": ".py",
   "mimetype": "text/x-python",
   "name": "python",
   "nbconvert_exporter": "python",
   "pygments_lexer": "ipython2",
   "version": "2.7.6"
  }
 },
 "nbformat": 4,
 "nbformat_minor": 5
}
